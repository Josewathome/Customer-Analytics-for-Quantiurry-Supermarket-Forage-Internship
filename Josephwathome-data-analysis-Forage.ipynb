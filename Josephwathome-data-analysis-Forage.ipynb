{
 "cells": [
  {
   "cell_type": "markdown",
   "metadata": {},
   "source": [
    "# Quantium Virtual Internship - Retail Strategy and Analytics - Task 1"
   ]
  },
  {
   "cell_type": "markdown",
   "metadata": {},
   "source": [
    "###                                              DATA PROCESSING"
   ]
  },
  {
   "cell_type": "markdown",
   "metadata": {},
   "source": [
    "Importing the nessesary Libraries"
   ]
  },
  {
   "cell_type": "code",
   "execution_count": 1,
   "metadata": {},
   "outputs": [],
   "source": [
    "import pandas as pd\n",
    "import numpy as np\n",
    "import matplotlib.pyplot as plt\n",
    "import seaborn as sns"
   ]
  },
  {
   "cell_type": "markdown",
   "metadata": {},
   "source": [
    "##### Data Processing of the QVI_purchase_behaviour.csv\n",
    "Loading the QVI_purchase_behaviour.csv data set and vewing the first five rows"
   ]
  },
  {
   "cell_type": "code",
   "execution_count": 2,
   "metadata": {},
   "outputs": [
    {
     "data": {
      "text/html": [
       "<div>\n",
       "<style scoped>\n",
       "    .dataframe tbody tr th:only-of-type {\n",
       "        vertical-align: middle;\n",
       "    }\n",
       "\n",
       "    .dataframe tbody tr th {\n",
       "        vertical-align: top;\n",
       "    }\n",
       "\n",
       "    .dataframe thead th {\n",
       "        text-align: right;\n",
       "    }\n",
       "</style>\n",
       "<table border=\"1\" class=\"dataframe\">\n",
       "  <thead>\n",
       "    <tr style=\"text-align: right;\">\n",
       "      <th></th>\n",
       "      <th>LYLTY_CARD_NBR</th>\n",
       "      <th>LIFESTAGE</th>\n",
       "      <th>PREMIUM_CUSTOMER</th>\n",
       "    </tr>\n",
       "  </thead>\n",
       "  <tbody>\n",
       "    <tr>\n",
       "      <th>0</th>\n",
       "      <td>1000</td>\n",
       "      <td>YOUNG SINGLES/COUPLES</td>\n",
       "      <td>Premium</td>\n",
       "    </tr>\n",
       "    <tr>\n",
       "      <th>1</th>\n",
       "      <td>1002</td>\n",
       "      <td>YOUNG SINGLES/COUPLES</td>\n",
       "      <td>Mainstream</td>\n",
       "    </tr>\n",
       "    <tr>\n",
       "      <th>2</th>\n",
       "      <td>1003</td>\n",
       "      <td>YOUNG FAMILIES</td>\n",
       "      <td>Budget</td>\n",
       "    </tr>\n",
       "    <tr>\n",
       "      <th>3</th>\n",
       "      <td>1004</td>\n",
       "      <td>OLDER SINGLES/COUPLES</td>\n",
       "      <td>Mainstream</td>\n",
       "    </tr>\n",
       "    <tr>\n",
       "      <th>4</th>\n",
       "      <td>1005</td>\n",
       "      <td>MIDAGE SINGLES/COUPLES</td>\n",
       "      <td>Mainstream</td>\n",
       "    </tr>\n",
       "  </tbody>\n",
       "</table>\n",
       "</div>"
      ],
      "text/plain": [
       "   LYLTY_CARD_NBR               LIFESTAGE PREMIUM_CUSTOMER\n",
       "0            1000   YOUNG SINGLES/COUPLES          Premium\n",
       "1            1002   YOUNG SINGLES/COUPLES       Mainstream\n",
       "2            1003          YOUNG FAMILIES           Budget\n",
       "3            1004   OLDER SINGLES/COUPLES       Mainstream\n",
       "4            1005  MIDAGE SINGLES/COUPLES       Mainstream"
      ]
     },
     "execution_count": 2,
     "metadata": {},
     "output_type": "execute_result"
    }
   ],
   "source": [
    "purchase = pd.read_csv(\"QVI_purchase_behaviour.csv\")\n",
    "purchase.head()"
   ]
  },
  {
   "cell_type": "code",
   "execution_count": 3,
   "metadata": {},
   "outputs": [
    {
     "data": {
      "text/plain": [
       "(72637, 3)"
      ]
     },
     "execution_count": 3,
     "metadata": {},
     "output_type": "execute_result"
    }
   ],
   "source": [
    "purchase.shape"
   ]
  },
  {
   "cell_type": "code",
   "execution_count": 4,
   "metadata": {},
   "outputs": [
    {
     "data": {
      "text/html": [
       "<div>\n",
       "<style scoped>\n",
       "    .dataframe tbody tr th:only-of-type {\n",
       "        vertical-align: middle;\n",
       "    }\n",
       "\n",
       "    .dataframe tbody tr th {\n",
       "        vertical-align: top;\n",
       "    }\n",
       "\n",
       "    .dataframe thead th {\n",
       "        text-align: right;\n",
       "    }\n",
       "</style>\n",
       "<table border=\"1\" class=\"dataframe\">\n",
       "  <thead>\n",
       "    <tr style=\"text-align: right;\">\n",
       "      <th></th>\n",
       "      <th>count</th>\n",
       "      <th>mean</th>\n",
       "      <th>std</th>\n",
       "      <th>min</th>\n",
       "      <th>25%</th>\n",
       "      <th>50%</th>\n",
       "      <th>75%</th>\n",
       "      <th>max</th>\n",
       "    </tr>\n",
       "  </thead>\n",
       "  <tbody>\n",
       "    <tr>\n",
       "      <th>LYLTY_CARD_NBR</th>\n",
       "      <td>72637.0</td>\n",
       "      <td>136185.93177</td>\n",
       "      <td>89892.932014</td>\n",
       "      <td>1000.0</td>\n",
       "      <td>66202.0</td>\n",
       "      <td>134040.0</td>\n",
       "      <td>203375.0</td>\n",
       "      <td>2373711.0</td>\n",
       "    </tr>\n",
       "  </tbody>\n",
       "</table>\n",
       "</div>"
      ],
      "text/plain": [
       "                  count          mean           std     min      25%  \\\n",
       "LYLTY_CARD_NBR  72637.0  136185.93177  89892.932014  1000.0  66202.0   \n",
       "\n",
       "                     50%       75%        max  \n",
       "LYLTY_CARD_NBR  134040.0  203375.0  2373711.0  "
      ]
     },
     "execution_count": 4,
     "metadata": {},
     "output_type": "execute_result"
    }
   ],
   "source": [
    "purchase.describe().T"
   ]
  },
  {
   "cell_type": "code",
   "execution_count": 5,
   "metadata": {},
   "outputs": [
    {
     "data": {
      "text/plain": [
       "LYLTY_CARD_NBR       int64\n",
       "LIFESTAGE           object\n",
       "PREMIUM_CUSTOMER    object\n",
       "dtype: object"
      ]
     },
     "execution_count": 5,
     "metadata": {},
     "output_type": "execute_result"
    }
   ],
   "source": [
    "#checking the Data type\n",
    "purchase.dtypes"
   ]
  },
  {
   "cell_type": "code",
   "execution_count": 6,
   "metadata": {},
   "outputs": [
    {
     "name": "stdout",
     "output_type": "stream",
     "text": [
      "Unique values with counts greater than one: \n",
      "Series([], Name: LYLTY_CARD_NBR, dtype: int64)\n",
      "\n",
      "Total counts of allunique values :\n",
      "72637\n"
     ]
    }
   ],
   "source": [
    "#checking the unique values for the LYTY_CARD_NBR to check if its consistent with the number of rows present\n",
    "#using value_counts() to count unique values and their frequencies\n",
    "value_counts = purchase[\"LYLTY_CARD_NBR\"].value_counts()\n",
    "#filtering values that have a countgreater than one\n",
    "filtered_counts = value_counts[value_counts>1]\n",
    "\n",
    "print (\"Unique values with counts greater than one: \")\n",
    "print(filtered_counts)\n",
    "\n",
    "print(\"\\nTotal counts of allunique values :\")\n",
    "print (value_counts.sum())\n",
    "\n",
    "#values are 72637 same as number of rows in this data."
   ]
  },
  {
   "cell_type": "markdown",
   "metadata": {},
   "source": [
    "### Checking Missing Values and rectifying it"
   ]
  },
  {
   "cell_type": "code",
   "execution_count": 7,
   "metadata": {},
   "outputs": [
    {
     "name": "stdout",
     "output_type": "stream",
     "text": [
      "LYLTY_CARD_NBR      0\n",
      "LIFESTAGE           0\n",
      "PREMIUM_CUSTOMER    0\n",
      "dtype: int64 \n"
     ]
    }
   ],
   "source": [
    "#count of missing data\n",
    "Missing_values =purchase.isna().sum()\n",
    "print(\"{} \".format(Missing_values))"
   ]
  },
  {
   "cell_type": "markdown",
   "metadata": {},
   "source": [
    "##### Data Processing of the QVI_transaction_data.xlsx\n",
    "Loading the QVI_transaction_data.xlsx data set and vewing the first five rows"
   ]
  },
  {
   "cell_type": "code",
   "execution_count": 8,
   "metadata": {},
   "outputs": [
    {
     "data": {
      "text/html": [
       "<div>\n",
       "<style scoped>\n",
       "    .dataframe tbody tr th:only-of-type {\n",
       "        vertical-align: middle;\n",
       "    }\n",
       "\n",
       "    .dataframe tbody tr th {\n",
       "        vertical-align: top;\n",
       "    }\n",
       "\n",
       "    .dataframe thead th {\n",
       "        text-align: right;\n",
       "    }\n",
       "</style>\n",
       "<table border=\"1\" class=\"dataframe\">\n",
       "  <thead>\n",
       "    <tr style=\"text-align: right;\">\n",
       "      <th></th>\n",
       "      <th>DATE</th>\n",
       "      <th>STORE_NBR</th>\n",
       "      <th>LYLTY_CARD_NBR</th>\n",
       "      <th>TXN_ID</th>\n",
       "      <th>PROD_NBR</th>\n",
       "      <th>PROD_NAME</th>\n",
       "      <th>PROD_QTY</th>\n",
       "      <th>TOT_SALES</th>\n",
       "    </tr>\n",
       "  </thead>\n",
       "  <tbody>\n",
       "    <tr>\n",
       "      <th>0</th>\n",
       "      <td>43390</td>\n",
       "      <td>1</td>\n",
       "      <td>1000</td>\n",
       "      <td>1</td>\n",
       "      <td>5</td>\n",
       "      <td>Natural Chip        Compny SeaSalt175g</td>\n",
       "      <td>2</td>\n",
       "      <td>6.0</td>\n",
       "    </tr>\n",
       "    <tr>\n",
       "      <th>1</th>\n",
       "      <td>43599</td>\n",
       "      <td>1</td>\n",
       "      <td>1307</td>\n",
       "      <td>348</td>\n",
       "      <td>66</td>\n",
       "      <td>CCs Nacho Cheese    175g</td>\n",
       "      <td>3</td>\n",
       "      <td>6.3</td>\n",
       "    </tr>\n",
       "    <tr>\n",
       "      <th>2</th>\n",
       "      <td>43605</td>\n",
       "      <td>1</td>\n",
       "      <td>1343</td>\n",
       "      <td>383</td>\n",
       "      <td>61</td>\n",
       "      <td>Smiths Crinkle Cut  Chips Chicken 170g</td>\n",
       "      <td>2</td>\n",
       "      <td>2.9</td>\n",
       "    </tr>\n",
       "    <tr>\n",
       "      <th>3</th>\n",
       "      <td>43329</td>\n",
       "      <td>2</td>\n",
       "      <td>2373</td>\n",
       "      <td>974</td>\n",
       "      <td>69</td>\n",
       "      <td>Smiths Chip Thinly  S/Cream&amp;Onion 175g</td>\n",
       "      <td>5</td>\n",
       "      <td>15.0</td>\n",
       "    </tr>\n",
       "    <tr>\n",
       "      <th>4</th>\n",
       "      <td>43330</td>\n",
       "      <td>2</td>\n",
       "      <td>2426</td>\n",
       "      <td>1038</td>\n",
       "      <td>108</td>\n",
       "      <td>Kettle Tortilla ChpsHny&amp;Jlpno Chili 150g</td>\n",
       "      <td>3</td>\n",
       "      <td>13.8</td>\n",
       "    </tr>\n",
       "  </tbody>\n",
       "</table>\n",
       "</div>"
      ],
      "text/plain": [
       "    DATE  STORE_NBR  LYLTY_CARD_NBR  TXN_ID  PROD_NBR  \\\n",
       "0  43390          1            1000       1         5   \n",
       "1  43599          1            1307     348        66   \n",
       "2  43605          1            1343     383        61   \n",
       "3  43329          2            2373     974        69   \n",
       "4  43330          2            2426    1038       108   \n",
       "\n",
       "                                  PROD_NAME  PROD_QTY  TOT_SALES  \n",
       "0    Natural Chip        Compny SeaSalt175g         2        6.0  \n",
       "1                  CCs Nacho Cheese    175g         3        6.3  \n",
       "2    Smiths Crinkle Cut  Chips Chicken 170g         2        2.9  \n",
       "3    Smiths Chip Thinly  S/Cream&Onion 175g         5       15.0  \n",
       "4  Kettle Tortilla ChpsHny&Jlpno Chili 150g         3       13.8  "
      ]
     },
     "execution_count": 8,
     "metadata": {},
     "output_type": "execute_result"
    }
   ],
   "source": [
    "transaction = pd.read_excel(\"QVI_transaction_data.xlsx\")\n",
    "transaction.head()"
   ]
  },
  {
   "cell_type": "code",
   "execution_count": 9,
   "metadata": {},
   "outputs": [
    {
     "data": {
      "text/plain": [
       "(264836, 8)"
      ]
     },
     "execution_count": 9,
     "metadata": {},
     "output_type": "execute_result"
    }
   ],
   "source": [
    "transaction.shape"
   ]
  },
  {
   "cell_type": "code",
   "execution_count": 10,
   "metadata": {},
   "outputs": [],
   "source": [
    "#Converting the date  to date formart\n",
    "transaction['DATE'] = pd.to_datetime(transaction['DATE'], origin='1899-12-30', unit='D')"
   ]
  },
  {
   "cell_type": "code",
   "execution_count": 11,
   "metadata": {},
   "outputs": [
    {
     "name": "stderr",
     "output_type": "stream",
     "text": [
      "C:\\Users\\josep\\AppData\\Local\\Temp\\ipykernel_4268\\2251822836.py:1: FutureWarning: Treating datetime data as categorical rather than numeric in `.describe` is deprecated and will be removed in a future version of pandas. Specify `datetime_is_numeric=True` to silence this warning and adopt the future behavior now.\n",
      "  transaction.describe(include='all').T\n"
     ]
    },
    {
     "data": {
      "text/html": [
       "<div>\n",
       "<style scoped>\n",
       "    .dataframe tbody tr th:only-of-type {\n",
       "        vertical-align: middle;\n",
       "    }\n",
       "\n",
       "    .dataframe tbody tr th {\n",
       "        vertical-align: top;\n",
       "    }\n",
       "\n",
       "    .dataframe thead th {\n",
       "        text-align: right;\n",
       "    }\n",
       "</style>\n",
       "<table border=\"1\" class=\"dataframe\">\n",
       "  <thead>\n",
       "    <tr style=\"text-align: right;\">\n",
       "      <th></th>\n",
       "      <th>count</th>\n",
       "      <th>unique</th>\n",
       "      <th>top</th>\n",
       "      <th>freq</th>\n",
       "      <th>first</th>\n",
       "      <th>last</th>\n",
       "      <th>mean</th>\n",
       "      <th>std</th>\n",
       "      <th>min</th>\n",
       "      <th>25%</th>\n",
       "      <th>50%</th>\n",
       "      <th>75%</th>\n",
       "      <th>max</th>\n",
       "    </tr>\n",
       "  </thead>\n",
       "  <tbody>\n",
       "    <tr>\n",
       "      <th>DATE</th>\n",
       "      <td>264836</td>\n",
       "      <td>364</td>\n",
       "      <td>2018-12-24 00:00:00</td>\n",
       "      <td>939</td>\n",
       "      <td>2018-07-01</td>\n",
       "      <td>2019-06-30</td>\n",
       "      <td>NaN</td>\n",
       "      <td>NaN</td>\n",
       "      <td>NaN</td>\n",
       "      <td>NaN</td>\n",
       "      <td>NaN</td>\n",
       "      <td>NaN</td>\n",
       "      <td>NaN</td>\n",
       "    </tr>\n",
       "    <tr>\n",
       "      <th>STORE_NBR</th>\n",
       "      <td>264836.0</td>\n",
       "      <td>NaN</td>\n",
       "      <td>NaN</td>\n",
       "      <td>NaN</td>\n",
       "      <td>NaT</td>\n",
       "      <td>NaT</td>\n",
       "      <td>135.08011</td>\n",
       "      <td>76.78418</td>\n",
       "      <td>1.0</td>\n",
       "      <td>70.0</td>\n",
       "      <td>130.0</td>\n",
       "      <td>203.0</td>\n",
       "      <td>272.0</td>\n",
       "    </tr>\n",
       "    <tr>\n",
       "      <th>LYLTY_CARD_NBR</th>\n",
       "      <td>264836.0</td>\n",
       "      <td>NaN</td>\n",
       "      <td>NaN</td>\n",
       "      <td>NaN</td>\n",
       "      <td>NaT</td>\n",
       "      <td>NaT</td>\n",
       "      <td>135549.476404</td>\n",
       "      <td>80579.978022</td>\n",
       "      <td>1000.0</td>\n",
       "      <td>70021.0</td>\n",
       "      <td>130357.5</td>\n",
       "      <td>203094.25</td>\n",
       "      <td>2373711.0</td>\n",
       "    </tr>\n",
       "    <tr>\n",
       "      <th>TXN_ID</th>\n",
       "      <td>264836.0</td>\n",
       "      <td>NaN</td>\n",
       "      <td>NaN</td>\n",
       "      <td>NaN</td>\n",
       "      <td>NaT</td>\n",
       "      <td>NaT</td>\n",
       "      <td>135158.310815</td>\n",
       "      <td>78133.026026</td>\n",
       "      <td>1.0</td>\n",
       "      <td>67601.5</td>\n",
       "      <td>135137.5</td>\n",
       "      <td>202701.25</td>\n",
       "      <td>2415841.0</td>\n",
       "    </tr>\n",
       "    <tr>\n",
       "      <th>PROD_NBR</th>\n",
       "      <td>264836.0</td>\n",
       "      <td>NaN</td>\n",
       "      <td>NaN</td>\n",
       "      <td>NaN</td>\n",
       "      <td>NaT</td>\n",
       "      <td>NaT</td>\n",
       "      <td>56.583157</td>\n",
       "      <td>32.826638</td>\n",
       "      <td>1.0</td>\n",
       "      <td>28.0</td>\n",
       "      <td>56.0</td>\n",
       "      <td>85.0</td>\n",
       "      <td>114.0</td>\n",
       "    </tr>\n",
       "    <tr>\n",
       "      <th>PROD_NAME</th>\n",
       "      <td>264836</td>\n",
       "      <td>114</td>\n",
       "      <td>Kettle Mozzarella   Basil &amp; Pesto 175g</td>\n",
       "      <td>3304</td>\n",
       "      <td>NaT</td>\n",
       "      <td>NaT</td>\n",
       "      <td>NaN</td>\n",
       "      <td>NaN</td>\n",
       "      <td>NaN</td>\n",
       "      <td>NaN</td>\n",
       "      <td>NaN</td>\n",
       "      <td>NaN</td>\n",
       "      <td>NaN</td>\n",
       "    </tr>\n",
       "    <tr>\n",
       "      <th>PROD_QTY</th>\n",
       "      <td>264836.0</td>\n",
       "      <td>NaN</td>\n",
       "      <td>NaN</td>\n",
       "      <td>NaN</td>\n",
       "      <td>NaT</td>\n",
       "      <td>NaT</td>\n",
       "      <td>1.907309</td>\n",
       "      <td>0.643654</td>\n",
       "      <td>1.0</td>\n",
       "      <td>2.0</td>\n",
       "      <td>2.0</td>\n",
       "      <td>2.0</td>\n",
       "      <td>200.0</td>\n",
       "    </tr>\n",
       "    <tr>\n",
       "      <th>TOT_SALES</th>\n",
       "      <td>264836.0</td>\n",
       "      <td>NaN</td>\n",
       "      <td>NaN</td>\n",
       "      <td>NaN</td>\n",
       "      <td>NaT</td>\n",
       "      <td>NaT</td>\n",
       "      <td>7.3042</td>\n",
       "      <td>3.083226</td>\n",
       "      <td>1.5</td>\n",
       "      <td>5.4</td>\n",
       "      <td>7.4</td>\n",
       "      <td>9.2</td>\n",
       "      <td>650.0</td>\n",
       "    </tr>\n",
       "  </tbody>\n",
       "</table>\n",
       "</div>"
      ],
      "text/plain": [
       "                   count unique                                     top  freq  \\\n",
       "DATE              264836    364                     2018-12-24 00:00:00   939   \n",
       "STORE_NBR       264836.0    NaN                                     NaN   NaN   \n",
       "LYLTY_CARD_NBR  264836.0    NaN                                     NaN   NaN   \n",
       "TXN_ID          264836.0    NaN                                     NaN   NaN   \n",
       "PROD_NBR        264836.0    NaN                                     NaN   NaN   \n",
       "PROD_NAME         264836    114  Kettle Mozzarella   Basil & Pesto 175g  3304   \n",
       "PROD_QTY        264836.0    NaN                                     NaN   NaN   \n",
       "TOT_SALES       264836.0    NaN                                     NaN   NaN   \n",
       "\n",
       "                    first       last           mean           std     min  \\\n",
       "DATE           2018-07-01 2019-06-30            NaN           NaN     NaN   \n",
       "STORE_NBR             NaT        NaT      135.08011      76.78418     1.0   \n",
       "LYLTY_CARD_NBR        NaT        NaT  135549.476404  80579.978022  1000.0   \n",
       "TXN_ID                NaT        NaT  135158.310815  78133.026026     1.0   \n",
       "PROD_NBR              NaT        NaT      56.583157     32.826638     1.0   \n",
       "PROD_NAME             NaT        NaT            NaN           NaN     NaN   \n",
       "PROD_QTY              NaT        NaT       1.907309      0.643654     1.0   \n",
       "TOT_SALES             NaT        NaT         7.3042      3.083226     1.5   \n",
       "\n",
       "                    25%       50%        75%        max  \n",
       "DATE                NaN       NaN        NaN        NaN  \n",
       "STORE_NBR          70.0     130.0      203.0      272.0  \n",
       "LYLTY_CARD_NBR  70021.0  130357.5  203094.25  2373711.0  \n",
       "TXN_ID          67601.5  135137.5  202701.25  2415841.0  \n",
       "PROD_NBR           28.0      56.0       85.0      114.0  \n",
       "PROD_NAME           NaN       NaN        NaN        NaN  \n",
       "PROD_QTY            2.0       2.0        2.0      200.0  \n",
       "TOT_SALES           5.4       7.4        9.2      650.0  "
      ]
     },
     "execution_count": 11,
     "metadata": {},
     "output_type": "execute_result"
    }
   ],
   "source": [
    "transaction.describe(include='all').T"
   ]
  },
  {
   "cell_type": "code",
   "execution_count": 12,
   "metadata": {},
   "outputs": [
    {
     "data": {
      "text/plain": [
       "DATE              datetime64[ns]\n",
       "STORE_NBR                  int64\n",
       "LYLTY_CARD_NBR             int64\n",
       "TXN_ID                     int64\n",
       "PROD_NBR                   int64\n",
       "PROD_NAME                 object\n",
       "PROD_QTY                   int64\n",
       "TOT_SALES                float64\n",
       "dtype: object"
      ]
     },
     "execution_count": 12,
     "metadata": {},
     "output_type": "execute_result"
    }
   ],
   "source": [
    "#cheking the data types\n",
    "transaction.dtypes"
   ]
  },
  {
   "cell_type": "markdown",
   "metadata": {},
   "source": [
    "Examining the PROD_NAME COLUMN"
   ]
  },
  {
   "cell_type": "code",
   "execution_count": 13,
   "metadata": {},
   "outputs": [
    {
     "data": {
      "text/plain": [
       "count                                     264836\n",
       "unique                                       114\n",
       "top       Kettle Mozzarella   Basil & Pesto 175g\n",
       "freq                                        3304\n",
       "Name: PROD_NAME, dtype: object"
      ]
     },
     "execution_count": 13,
     "metadata": {},
     "output_type": "execute_result"
    }
   ],
   "source": [
    "Product_summary = transaction['PROD_NAME'].describe()\n",
    "Product_summary"
   ]
  },
  {
   "cell_type": "code",
   "execution_count": 14,
   "metadata": {},
   "outputs": [],
   "source": [
    "#Examine the words in PROD_NAME to filter out non-chip products\n",
    "product_words =transaction['PROD_NAME'].str.split().explode()\n",
    "product_words = product_words[~product_words.str.contains(r'[0-9&/]')]"
   ]
  },
  {
   "cell_type": "code",
   "execution_count": 15,
   "metadata": {},
   "outputs": [],
   "source": [
    "#Remove salsa Products\n",
    "transaction = transaction[~transaction['PROD_NAME'].str.contains('Salsa')]"
   ]
  },
  {
   "cell_type": "markdown",
   "metadata": {},
   "source": [
    "### Checking Missing Values and rectifying it"
   ]
  },
  {
   "cell_type": "code",
   "execution_count": 16,
   "metadata": {},
   "outputs": [
    {
     "name": "stdout",
     "output_type": "stream",
     "text": [
      "DATE              0\n",
      "STORE_NBR         0\n",
      "LYLTY_CARD_NBR    0\n",
      "TXN_ID            0\n",
      "PROD_NBR          0\n",
      "PROD_NAME         0\n",
      "PROD_QTY          0\n",
      "TOT_SALES         0\n",
      "dtype: int64 \n"
     ]
    }
   ],
   "source": [
    "#count of missing data\n",
    "Missing_values =transaction.isna().sum()\n",
    "print(\"{} \".format(Missing_values))"
   ]
  },
  {
   "cell_type": "markdown",
   "metadata": {},
   "source": [
    "### Checking For Outliers and rectifying it\n",
    "\n",
    "Because of luck of good domain Knowledge I Will only inspect PROD_QTY AND TOT_SALES Columns for outliers by using the box plot method to visualize the outliers"
   ]
  },
  {
   "cell_type": "code",
   "execution_count": 17,
   "metadata": {},
   "outputs": [
    {
     "data": {
      "image/png": "[encoded data removed]",
      "text/plain": [
       "<Figure size 1200x600 with 2 Axes>"
      ]
     },
     "metadata": {},
     "output_type": "display_data"
    },
    {
     "data": {
      "text/plain": [
       "<Figure size 640x480 with 0 Axes>"
      ]
     },
     "metadata": {},
     "output_type": "display_data"
    }
   ],
   "source": [
    "plt.figure(figsize=(12,6))\n",
    "\n",
    "#Boxplot for PROD_QTY\n",
    "plt.subplot(1,2,1)\n",
    "plt.boxplot(transaction['PROD_QTY'])\n",
    "plt.title('Boxplot for PROD_QTY')\n",
    "plt.ylabel('Values')\n",
    "plt.grid(True, linestyle ='--', alpha = 0.7)\n",
    "\n",
    "#Boxplot for TOT_SALES\n",
    "plt.subplot(1,2,2)\n",
    "plt.boxplot(transaction['TOT_SALES'])\n",
    "plt.title('Boxplot for TOT_SALES')\n",
    "plt.ylabel('Values')\n",
    "plt.grid(True, linestyle ='--', alpha = 0.7)\n",
    "\n",
    "\n",
    "plt.tight_layout()\n",
    "plt.show()\n",
    "plt.clf()"
   ]
  },
  {
   "cell_type": "markdown",
   "metadata": {},
   "source": [
    "Removing the Outliers using the IQR method"
   ]
  },
  {
   "cell_type": "code",
   "execution_count": 18,
   "metadata": {},
   "outputs": [
    {
     "data": {
      "text/plain": [
       "'Woolworths Cheese   Rings 190g'"
      ]
     },
     "execution_count": 18,
     "metadata": {},
     "output_type": "execute_result"
    }
   ],
   "source": [
    "\n",
    "v1 = [200]\n",
    "v2 = [650]\n",
    "for columns, values in zip([\"PROD_QTY\",\"TOT_SALES\"],[v1, v2]):\n",
    "    transaction = transaction[~transaction[columns].isin(values)]\n",
    "\n",
    "z = np.max(transaction[\"PROD_NAME\"])\n",
    "z"
   ]
  },
  {
   "cell_type": "markdown",
   "metadata": {},
   "source": [
    "Checking if the outliers have been removed"
   ]
  },
  {
   "cell_type": "code",
   "execution_count": 19,
   "metadata": {},
   "outputs": [
    {
     "name": "stdout",
     "output_type": "stream",
     "text": [
      "DATE              0\n",
      "STORE_NBR         0\n",
      "LYLTY_CARD_NBR    0\n",
      "TXN_ID            0\n",
      "PROD_NBR          0\n",
      "PROD_NAME         0\n",
      "PROD_QTY          0\n",
      "TOT_SALES         0\n",
      "dtype: int64 \n"
     ]
    }
   ],
   "source": [
    "#count of missing data\n",
    "Missing_values =transaction.isna().sum()\n",
    "print(\"{} \".format(Missing_values))"
   ]
  },
  {
   "cell_type": "code",
   "execution_count": 20,
   "metadata": {},
   "outputs": [
    {
     "data": {
      "image/png": "[encoded data removed]",
      "text/plain": [
       "<Figure size 1200x600 with 2 Axes>"
      ]
     },
     "metadata": {},
     "output_type": "display_data"
    },
    {
     "data": {
      "text/plain": [
       "<Figure size 640x480 with 0 Axes>"
      ]
     },
     "metadata": {},
     "output_type": "display_data"
    }
   ],
   "source": [
    "plt.figure(figsize=(12,6))\n",
    "\n",
    "#Boxplot for PROD_QTY\n",
    "plt.subplot(1,2,1)\n",
    "plt.boxplot(transaction['PROD_QTY'])\n",
    "plt.title('Boxplot for PROD_QTY')\n",
    "plt.ylabel('Values')\n",
    "plt.grid(True, linestyle ='--', alpha = 0.7)\n",
    "\n",
    "#Boxplot for TOT_SALES\n",
    "plt.subplot(1,2,2)\n",
    "plt.boxplot(transaction['TOT_SALES'])\n",
    "plt.title('Boxplot for TOT_SALES')\n",
    "plt.ylabel('Values')\n",
    "plt.grid(True, linestyle ='--', alpha = 0.7)\n",
    "\n",
    "\n",
    "plt.tight_layout()\n",
    "plt.show()\n",
    "plt.clf()"
   ]
  },
  {
   "cell_type": "markdown",
   "metadata": {},
   "source": [
    "#### Check the trasactions by date"
   ]
  },
  {
   "cell_type": "code",
   "execution_count": 21,
   "metadata": {},
   "outputs": [],
   "source": [
    "transactions_by_day = transaction.groupby('DATE').size().reset_index(name='N')"
   ]
  },
  {
   "cell_type": "markdown",
   "metadata": {},
   "source": [
    "#### Create a sequence of dates and join it to fill missing dates"
   ]
  },
  {
   "cell_type": "code",
   "execution_count": 22,
   "metadata": {},
   "outputs": [],
   "source": [
    "date_range = pd.date_range(start='2018-07-01', end = '2019-06-30')\n",
    "all_dates = pd.DataFrame({'DATE':date_range})\n",
    "transactions_by_day =  all_dates.merge(transactions_by_day, on ='DATE', how = 'left')\n",
    "transactions_by_day['N'] = transactions_by_day['N'].fillna(0)"
   ]
  },
  {
   "cell_type": "markdown",
   "metadata": {},
   "source": [
    "#### Transaction over time"
   ]
  },
  {
   "cell_type": "code",
   "execution_count": 23,
   "metadata": {},
   "outputs": [
    {
     "data": {
      "image/png": "[encoded data removed]",
      "text/plain": [
       "<Figure size 1000x600 with 1 Axes>"
      ]
     },
     "metadata": {},
     "output_type": "display_data"
    },
    {
     "data": {
      "text/plain": [
       "<Figure size 640x480 with 0 Axes>"
      ]
     },
     "metadata": {},
     "output_type": "display_data"
    }
   ],
   "source": [
    "#Plot Transactions over time\n",
    "plt.figure(figsize=(10,6))\n",
    "plt.plot(transactions_by_day['DATE'],transactions_by_day['N'])\n",
    "plt.xlabel('Date')\n",
    "plt.ylabel('Number of Transactions')\n",
    "plt.title('Transactions over time')\n",
    "plt.xticks(rotation = 90)\n",
    "plt.show()\n",
    "plt.clf()"
   ]
  },
  {
   "cell_type": "markdown",
   "metadata": {},
   "source": [
    "### Create a pack size Column"
   ]
  },
  {
   "cell_type": "code",
   "execution_count": 24,
   "metadata": {},
   "outputs": [
    {
     "data": {
      "text/html": [
       "<div>\n",
       "<style scoped>\n",
       "    .dataframe tbody tr th:only-of-type {\n",
       "        vertical-align: middle;\n",
       "    }\n",
       "\n",
       "    .dataframe tbody tr th {\n",
       "        vertical-align: top;\n",
       "    }\n",
       "\n",
       "    .dataframe thead th {\n",
       "        text-align: right;\n",
       "    }\n",
       "</style>\n",
       "<table border=\"1\" class=\"dataframe\">\n",
       "  <thead>\n",
       "    <tr style=\"text-align: right;\">\n",
       "      <th></th>\n",
       "      <th>DATE</th>\n",
       "      <th>STORE_NBR</th>\n",
       "      <th>LYLTY_CARD_NBR</th>\n",
       "      <th>TXN_ID</th>\n",
       "      <th>PROD_NBR</th>\n",
       "      <th>PROD_NAME</th>\n",
       "      <th>PROD_QTY</th>\n",
       "      <th>TOT_SALES</th>\n",
       "      <th>PACK_SIZE</th>\n",
       "    </tr>\n",
       "  </thead>\n",
       "  <tbody>\n",
       "    <tr>\n",
       "      <th>0</th>\n",
       "      <td>2018-10-17</td>\n",
       "      <td>1</td>\n",
       "      <td>1000</td>\n",
       "      <td>1</td>\n",
       "      <td>5</td>\n",
       "      <td>Natural Chip        Compny SeaSalt175g</td>\n",
       "      <td>2</td>\n",
       "      <td>6.0</td>\n",
       "      <td>175.0</td>\n",
       "    </tr>\n",
       "    <tr>\n",
       "      <th>1</th>\n",
       "      <td>2019-05-14</td>\n",
       "      <td>1</td>\n",
       "      <td>1307</td>\n",
       "      <td>348</td>\n",
       "      <td>66</td>\n",
       "      <td>CCs Nacho Cheese    175g</td>\n",
       "      <td>3</td>\n",
       "      <td>6.3</td>\n",
       "      <td>175.0</td>\n",
       "    </tr>\n",
       "    <tr>\n",
       "      <th>2</th>\n",
       "      <td>2019-05-20</td>\n",
       "      <td>1</td>\n",
       "      <td>1343</td>\n",
       "      <td>383</td>\n",
       "      <td>61</td>\n",
       "      <td>Smiths Crinkle Cut  Chips Chicken 170g</td>\n",
       "      <td>2</td>\n",
       "      <td>2.9</td>\n",
       "      <td>170.0</td>\n",
       "    </tr>\n",
       "    <tr>\n",
       "      <th>3</th>\n",
       "      <td>2018-08-17</td>\n",
       "      <td>2</td>\n",
       "      <td>2373</td>\n",
       "      <td>974</td>\n",
       "      <td>69</td>\n",
       "      <td>Smiths Chip Thinly  S/Cream&amp;Onion 175g</td>\n",
       "      <td>5</td>\n",
       "      <td>15.0</td>\n",
       "      <td>175.0</td>\n",
       "    </tr>\n",
       "    <tr>\n",
       "      <th>4</th>\n",
       "      <td>2018-08-18</td>\n",
       "      <td>2</td>\n",
       "      <td>2426</td>\n",
       "      <td>1038</td>\n",
       "      <td>108</td>\n",
       "      <td>Kettle Tortilla ChpsHny&amp;Jlpno Chili 150g</td>\n",
       "      <td>3</td>\n",
       "      <td>13.8</td>\n",
       "      <td>150.0</td>\n",
       "    </tr>\n",
       "  </tbody>\n",
       "</table>\n",
       "</div>"
      ],
      "text/plain": [
       "        DATE  STORE_NBR  LYLTY_CARD_NBR  TXN_ID  PROD_NBR  \\\n",
       "0 2018-10-17          1            1000       1         5   \n",
       "1 2019-05-14          1            1307     348        66   \n",
       "2 2019-05-20          1            1343     383        61   \n",
       "3 2018-08-17          2            2373     974        69   \n",
       "4 2018-08-18          2            2426    1038       108   \n",
       "\n",
       "                                  PROD_NAME  PROD_QTY  TOT_SALES  PACK_SIZE  \n",
       "0    Natural Chip        Compny SeaSalt175g         2        6.0      175.0  \n",
       "1                  CCs Nacho Cheese    175g         3        6.3      175.0  \n",
       "2    Smiths Crinkle Cut  Chips Chicken 170g         2        2.9      170.0  \n",
       "3    Smiths Chip Thinly  S/Cream&Onion 175g         5       15.0      175.0  \n",
       "4  Kettle Tortilla ChpsHny&Jlpno Chili 150g         3       13.8      150.0  "
      ]
     },
     "execution_count": 24,
     "metadata": {},
     "output_type": "execute_result"
    }
   ],
   "source": [
    "transaction['PACK_SIZE'] = transaction['PROD_NAME'].str.extract('(\\d+)g').astype(float)\n",
    "transaction.head()"
   ]
  },
  {
   "cell_type": "code",
   "execution_count": 25,
   "metadata": {},
   "outputs": [
    {
     "data": {
      "image/png": "[encoded data removed]",
      "text/plain": [
       "<Figure size 1000x600 with 1 Axes>"
      ]
     },
     "metadata": {},
     "output_type": "display_data"
    },
    {
     "data": {
      "text/plain": [
       "<Figure size 640x480 with 0 Axes>"
      ]
     },
     "metadata": {},
     "output_type": "display_data"
    }
   ],
   "source": [
    "#Plot a Histogram of Pack Size\n",
    "plt.figure(figsize=(10, 6))\n",
    "plt.hist(transaction['PACK_SIZE'], bins=20, edgecolor='k')\n",
    "plt.xlabel('Pack Size (g)')\n",
    "plt.ylabel('Number of Transactions')\n",
    "plt.title('Distribution of Pack Sizes')\n",
    "plt.show()\n",
    "plt.clf()"
   ]
  },
  {
   "cell_type": "markdown",
   "metadata": {},
   "source": [
    "### Create a Brand Column"
   ]
  },
  {
   "cell_type": "code",
   "execution_count": 26,
   "metadata": {},
   "outputs": [],
   "source": [
    "transaction['BRAND'] = transaction['PROD_NAME'].str.split().str[0]"
   ]
  },
  {
   "cell_type": "code",
   "execution_count": 27,
   "metadata": {},
   "outputs": [],
   "source": [
    "\n",
    "# Clean Brand names\n",
    "transaction['BRAND'] = transaction['BRAND'].replace('RRD','Red Rock Deli')"
   ]
  },
  {
   "cell_type": "code",
   "execution_count": 28,
   "metadata": {},
   "outputs": [
    {
     "name": "stdout",
     "output_type": "stream",
     "text": [
      "DATE                 0\n",
      "STORE_NBR            0\n",
      "LYLTY_CARD_NBR       0\n",
      "TXN_ID               0\n",
      "PROD_NBR             0\n",
      "PROD_NAME            0\n",
      "PROD_QTY             0\n",
      "TOT_SALES            0\n",
      "PACK_SIZE         6064\n",
      "BRAND                0\n",
      "dtype: int64 \n"
     ]
    }
   ],
   "source": [
    "Missing_values =transaction.isna().sum()\n",
    "print(\"{} \".format(Missing_values))"
   ]
  },
  {
   "cell_type": "markdown",
   "metadata": {},
   "source": [
    "if the missing values constitute of less than 10% we drop the rows if more than 10% we fill them with zero"
   ]
  },
  {
   "cell_type": "code",
   "execution_count": 29,
   "metadata": {},
   "outputs": [
    {
     "name": "stdout",
     "output_type": "stream",
     "text": [
      "2.46%\n"
     ]
    }
   ],
   "source": [
    "percentage=  transaction['PACK_SIZE'].isna().sum() / transaction['BRAND'].count() *100\n",
    "print(\"{}%\".format(round(percentage,2)))"
   ]
  },
  {
   "cell_type": "code",
   "execution_count": 30,
   "metadata": {},
   "outputs": [],
   "source": [
    "transaction = transaction.dropna()"
   ]
  },
  {
   "cell_type": "code",
   "execution_count": 31,
   "metadata": {},
   "outputs": [
    {
     "data": {
      "text/plain": [
       "DATE              0\n",
       "STORE_NBR         0\n",
       "LYLTY_CARD_NBR    0\n",
       "TXN_ID            0\n",
       "PROD_NBR          0\n",
       "PROD_NAME         0\n",
       "PROD_QTY          0\n",
       "TOT_SALES         0\n",
       "PACK_SIZE         0\n",
       "BRAND             0\n",
       "dtype: int64"
      ]
     },
     "execution_count": 31,
     "metadata": {},
     "output_type": "execute_result"
    }
   ],
   "source": [
    "transaction.isna().sum()"
   ]
  },
  {
   "cell_type": "markdown",
   "metadata": {},
   "source": [
    "# MERGING the TWO data Purchase and Transaction data to data"
   ]
  },
  {
   "cell_type": "code",
   "execution_count": 32,
   "metadata": {},
   "outputs": [
    {
     "data": {
      "text/html": [
       "<div>\n",
       "<style scoped>\n",
       "    .dataframe tbody tr th:only-of-type {\n",
       "        vertical-align: middle;\n",
       "    }\n",
       "\n",
       "    .dataframe tbody tr th {\n",
       "        vertical-align: top;\n",
       "    }\n",
       "\n",
       "    .dataframe thead th {\n",
       "        text-align: right;\n",
       "    }\n",
       "</style>\n",
       "<table border=\"1\" class=\"dataframe\">\n",
       "  <thead>\n",
       "    <tr style=\"text-align: right;\">\n",
       "      <th></th>\n",
       "      <th>LYLTY_CARD_NBR</th>\n",
       "      <th>LIFESTAGE</th>\n",
       "      <th>PREMIUM_CUSTOMER</th>\n",
       "      <th>DATE</th>\n",
       "      <th>STORE_NBR</th>\n",
       "      <th>TXN_ID</th>\n",
       "      <th>PROD_NBR</th>\n",
       "      <th>PROD_NAME</th>\n",
       "      <th>PROD_QTY</th>\n",
       "      <th>TOT_SALES</th>\n",
       "      <th>PACK_SIZE</th>\n",
       "      <th>BRAND</th>\n",
       "    </tr>\n",
       "  </thead>\n",
       "  <tbody>\n",
       "    <tr>\n",
       "      <th>0</th>\n",
       "      <td>1000</td>\n",
       "      <td>YOUNG SINGLES/COUPLES</td>\n",
       "      <td>Premium</td>\n",
       "      <td>2018-10-17</td>\n",
       "      <td>1.0</td>\n",
       "      <td>1.0</td>\n",
       "      <td>5.0</td>\n",
       "      <td>Natural Chip        Compny SeaSalt175g</td>\n",
       "      <td>2.0</td>\n",
       "      <td>6.0</td>\n",
       "      <td>175.0</td>\n",
       "      <td>Natural</td>\n",
       "    </tr>\n",
       "    <tr>\n",
       "      <th>1</th>\n",
       "      <td>1002</td>\n",
       "      <td>YOUNG SINGLES/COUPLES</td>\n",
       "      <td>Mainstream</td>\n",
       "      <td>2018-09-16</td>\n",
       "      <td>1.0</td>\n",
       "      <td>2.0</td>\n",
       "      <td>58.0</td>\n",
       "      <td>Red Rock Deli Chikn&amp;Garlic Aioli 150g</td>\n",
       "      <td>1.0</td>\n",
       "      <td>2.7</td>\n",
       "      <td>150.0</td>\n",
       "      <td>Red</td>\n",
       "    </tr>\n",
       "    <tr>\n",
       "      <th>2</th>\n",
       "      <td>1003</td>\n",
       "      <td>YOUNG FAMILIES</td>\n",
       "      <td>Budget</td>\n",
       "      <td>2019-03-08</td>\n",
       "      <td>1.0</td>\n",
       "      <td>4.0</td>\n",
       "      <td>106.0</td>\n",
       "      <td>Natural ChipCo      Hony Soy Chckn175g</td>\n",
       "      <td>1.0</td>\n",
       "      <td>3.0</td>\n",
       "      <td>175.0</td>\n",
       "      <td>Natural</td>\n",
       "    </tr>\n",
       "    <tr>\n",
       "      <th>3</th>\n",
       "      <td>1004</td>\n",
       "      <td>OLDER SINGLES/COUPLES</td>\n",
       "      <td>Mainstream</td>\n",
       "      <td>2018-11-02</td>\n",
       "      <td>1.0</td>\n",
       "      <td>5.0</td>\n",
       "      <td>96.0</td>\n",
       "      <td>WW Original Stacked Chips 160g</td>\n",
       "      <td>1.0</td>\n",
       "      <td>1.9</td>\n",
       "      <td>160.0</td>\n",
       "      <td>WW</td>\n",
       "    </tr>\n",
       "    <tr>\n",
       "      <th>4</th>\n",
       "      <td>1005</td>\n",
       "      <td>MIDAGE SINGLES/COUPLES</td>\n",
       "      <td>Mainstream</td>\n",
       "      <td>2018-12-28</td>\n",
       "      <td>1.0</td>\n",
       "      <td>6.0</td>\n",
       "      <td>86.0</td>\n",
       "      <td>Cheetos Puffs 165g</td>\n",
       "      <td>1.0</td>\n",
       "      <td>2.8</td>\n",
       "      <td>165.0</td>\n",
       "      <td>Cheetos</td>\n",
       "    </tr>\n",
       "  </tbody>\n",
       "</table>\n",
       "</div>"
      ],
      "text/plain": [
       "   LYLTY_CARD_NBR               LIFESTAGE PREMIUM_CUSTOMER       DATE  \\\n",
       "0            1000   YOUNG SINGLES/COUPLES          Premium 2018-10-17   \n",
       "1            1002   YOUNG SINGLES/COUPLES       Mainstream 2018-09-16   \n",
       "2            1003          YOUNG FAMILIES           Budget 2019-03-08   \n",
       "3            1004   OLDER SINGLES/COUPLES       Mainstream 2018-11-02   \n",
       "4            1005  MIDAGE SINGLES/COUPLES       Mainstream 2018-12-28   \n",
       "\n",
       "   STORE_NBR  TXN_ID  PROD_NBR                               PROD_NAME  \\\n",
       "0        1.0     1.0       5.0  Natural Chip        Compny SeaSalt175g   \n",
       "1        1.0     2.0      58.0   Red Rock Deli Chikn&Garlic Aioli 150g   \n",
       "2        1.0     4.0     106.0  Natural ChipCo      Hony Soy Chckn175g   \n",
       "3        1.0     5.0      96.0          WW Original Stacked Chips 160g   \n",
       "4        1.0     6.0      86.0                      Cheetos Puffs 165g   \n",
       "\n",
       "   PROD_QTY  TOT_SALES  PACK_SIZE    BRAND  \n",
       "0       2.0        6.0      175.0  Natural  \n",
       "1       1.0        2.7      150.0      Red  \n",
       "2       1.0        3.0      175.0  Natural  \n",
       "3       1.0        1.9      160.0       WW  \n",
       "4       1.0        2.8      165.0  Cheetos  "
      ]
     },
     "execution_count": 32,
     "metadata": {},
     "output_type": "execute_result"
    }
   ],
   "source": [
    "data = pd.merge(purchase,transaction, on = \"LYLTY_CARD_NBR\", how = 'left')\n",
    "data.head()"
   ]
  },
  {
   "cell_type": "code",
   "execution_count": 33,
   "metadata": {},
   "outputs": [
    {
     "data": {
      "text/plain": [
       "(242486, 12)"
      ]
     },
     "execution_count": 33,
     "metadata": {},
     "output_type": "execute_result"
    }
   ],
   "source": [
    "data.shape"
   ]
  },
  {
   "cell_type": "code",
   "execution_count": 34,
   "metadata": {},
   "outputs": [
    {
     "name": "stdout",
     "output_type": "stream",
     "text": [
      "LYLTY_CARD_NBR         0\n",
      "LIFESTAGE              0\n",
      "PREMIUM_CUSTOMER       0\n",
      "DATE                1810\n",
      "STORE_NBR           1810\n",
      "TXN_ID              1810\n",
      "PROD_NBR            1810\n",
      "PROD_NAME           1810\n",
      "PROD_QTY            1810\n",
      "TOT_SALES           1810\n",
      "PACK_SIZE           1810\n",
      "BRAND               1810\n",
      "dtype: int64\n"
     ]
    }
   ],
   "source": [
    "#count of missing data\n",
    "Missing_values =data.isna().sum()\n",
    "print(\"{}\".format(Missing_values))"
   ]
  },
  {
   "cell_type": "code",
   "execution_count": 35,
   "metadata": {},
   "outputs": [
    {
     "name": "stdout",
     "output_type": "stream",
     "text": [
      "0.75%\n"
     ]
    }
   ],
   "source": [
    "percentage=  data['PACK_SIZE'].isna().sum() / data['BRAND'].count() *100\n",
    "print(\"{}%\".format(round(percentage,2)))"
   ]
  },
  {
   "cell_type": "code",
   "execution_count": 36,
   "metadata": {},
   "outputs": [],
   "source": [
    "#count of missing data\n",
    "data = data.dropna()\n"
   ]
  },
  {
   "cell_type": "code",
   "execution_count": 37,
   "metadata": {},
   "outputs": [
    {
     "name": "stdout",
     "output_type": "stream",
     "text": [
      "LYLTY_CARD_NBR      0\n",
      "LIFESTAGE           0\n",
      "PREMIUM_CUSTOMER    0\n",
      "DATE                0\n",
      "STORE_NBR           0\n",
      "TXN_ID              0\n",
      "PROD_NBR            0\n",
      "PROD_NAME           0\n",
      "PROD_QTY            0\n",
      "TOT_SALES           0\n",
      "PACK_SIZE           0\n",
      "BRAND               0\n",
      "dtype: int64\n"
     ]
    }
   ],
   "source": [
    "Missing_values =data.isna().sum()\n",
    "print(\"{}\".format(Missing_values))\n"
   ]
  },
  {
   "cell_type": "code",
   "execution_count": 38,
   "metadata": {},
   "outputs": [
    {
     "data": {
      "text/plain": [
       "(240676, 12)"
      ]
     },
     "execution_count": 38,
     "metadata": {},
     "output_type": "execute_result"
    }
   ],
   "source": [
    "data.shape"
   ]
  },
  {
   "cell_type": "code",
   "execution_count": 39,
   "metadata": {},
   "outputs": [
    {
     "name": "stderr",
     "output_type": "stream",
     "text": [
      "C:\\Users\\josep\\AppData\\Local\\Temp\\ipykernel_4268\\3536075253.py:1: FutureWarning: Treating datetime data as categorical rather than numeric in `.describe` is deprecated and will be removed in a future version of pandas. Specify `datetime_is_numeric=True` to silence this warning and adopt the future behavior now.\n",
      "  data.describe(include='all').T\n"
     ]
    },
    {
     "data": {
      "text/html": [
       "<div>\n",
       "<style scoped>\n",
       "    .dataframe tbody tr th:only-of-type {\n",
       "        vertical-align: middle;\n",
       "    }\n",
       "\n",
       "    .dataframe tbody tr th {\n",
       "        vertical-align: top;\n",
       "    }\n",
       "\n",
       "    .dataframe thead th {\n",
       "        text-align: right;\n",
       "    }\n",
       "</style>\n",
       "<table border=\"1\" class=\"dataframe\">\n",
       "  <thead>\n",
       "    <tr style=\"text-align: right;\">\n",
       "      <th></th>\n",
       "      <th>count</th>\n",
       "      <th>unique</th>\n",
       "      <th>top</th>\n",
       "      <th>freq</th>\n",
       "      <th>first</th>\n",
       "      <th>last</th>\n",
       "      <th>mean</th>\n",
       "      <th>std</th>\n",
       "      <th>min</th>\n",
       "      <th>25%</th>\n",
       "      <th>50%</th>\n",
       "      <th>75%</th>\n",
       "      <th>max</th>\n",
       "    </tr>\n",
       "  </thead>\n",
       "  <tbody>\n",
       "    <tr>\n",
       "      <th>LYLTY_CARD_NBR</th>\n",
       "      <td>240676.0</td>\n",
       "      <td>NaN</td>\n",
       "      <td>NaN</td>\n",
       "      <td>NaN</td>\n",
       "      <td>NaT</td>\n",
       "      <td>NaT</td>\n",
       "      <td>135575.998637</td>\n",
       "      <td>80813.089071</td>\n",
       "      <td>1000.0</td>\n",
       "      <td>70019.0</td>\n",
       "      <td>130388.0</td>\n",
       "      <td>203096.0</td>\n",
       "      <td>2373711.0</td>\n",
       "    </tr>\n",
       "    <tr>\n",
       "      <th>LIFESTAGE</th>\n",
       "      <td>240676</td>\n",
       "      <td>7</td>\n",
       "      <td>OLDER SINGLES/COUPLES</td>\n",
       "      <td>49547</td>\n",
       "      <td>NaT</td>\n",
       "      <td>NaT</td>\n",
       "      <td>NaN</td>\n",
       "      <td>NaN</td>\n",
       "      <td>NaN</td>\n",
       "      <td>NaN</td>\n",
       "      <td>NaN</td>\n",
       "      <td>NaN</td>\n",
       "      <td>NaN</td>\n",
       "    </tr>\n",
       "    <tr>\n",
       "      <th>PREMIUM_CUSTOMER</th>\n",
       "      <td>240676</td>\n",
       "      <td>3</td>\n",
       "      <td>Mainstream</td>\n",
       "      <td>92729</td>\n",
       "      <td>NaT</td>\n",
       "      <td>NaT</td>\n",
       "      <td>NaN</td>\n",
       "      <td>NaN</td>\n",
       "      <td>NaN</td>\n",
       "      <td>NaN</td>\n",
       "      <td>NaN</td>\n",
       "      <td>NaN</td>\n",
       "      <td>NaN</td>\n",
       "    </tr>\n",
       "    <tr>\n",
       "      <th>DATE</th>\n",
       "      <td>240676</td>\n",
       "      <td>364</td>\n",
       "      <td>2018-12-24 00:00:00</td>\n",
       "      <td>847</td>\n",
       "      <td>2018-07-01</td>\n",
       "      <td>2019-06-30</td>\n",
       "      <td>NaN</td>\n",
       "      <td>NaN</td>\n",
       "      <td>NaN</td>\n",
       "      <td>NaN</td>\n",
       "      <td>NaN</td>\n",
       "      <td>NaN</td>\n",
       "      <td>NaN</td>\n",
       "    </tr>\n",
       "    <tr>\n",
       "      <th>STORE_NBR</th>\n",
       "      <td>240676.0</td>\n",
       "      <td>NaN</td>\n",
       "      <td>NaN</td>\n",
       "      <td>NaN</td>\n",
       "      <td>NaT</td>\n",
       "      <td>NaT</td>\n",
       "      <td>135.087599</td>\n",
       "      <td>76.788631</td>\n",
       "      <td>1.0</td>\n",
       "      <td>70.0</td>\n",
       "      <td>130.0</td>\n",
       "      <td>203.0</td>\n",
       "      <td>272.0</td>\n",
       "    </tr>\n",
       "    <tr>\n",
       "      <th>TXN_ID</th>\n",
       "      <td>240676.0</td>\n",
       "      <td>NaN</td>\n",
       "      <td>NaN</td>\n",
       "      <td>NaN</td>\n",
       "      <td>NaT</td>\n",
       "      <td>NaT</td>\n",
       "      <td>135170.441124</td>\n",
       "      <td>78153.577212</td>\n",
       "      <td>1.0</td>\n",
       "      <td>67590.75</td>\n",
       "      <td>135279.5</td>\n",
       "      <td>202705.25</td>\n",
       "      <td>2415841.0</td>\n",
       "    </tr>\n",
       "    <tr>\n",
       "      <th>PROD_NBR</th>\n",
       "      <td>240676.0</td>\n",
       "      <td>NaN</td>\n",
       "      <td>NaN</td>\n",
       "      <td>NaN</td>\n",
       "      <td>NaT</td>\n",
       "      <td>NaT</td>\n",
       "      <td>56.577822</td>\n",
       "      <td>34.073046</td>\n",
       "      <td>1.0</td>\n",
       "      <td>26.0</td>\n",
       "      <td>55.0</td>\n",
       "      <td>87.0</td>\n",
       "      <td>114.0</td>\n",
       "    </tr>\n",
       "    <tr>\n",
       "      <th>PROD_NAME</th>\n",
       "      <td>240676</td>\n",
       "      <td>102</td>\n",
       "      <td>Kettle Mozzarella   Basil &amp; Pesto 175g</td>\n",
       "      <td>3304</td>\n",
       "      <td>NaT</td>\n",
       "      <td>NaT</td>\n",
       "      <td>NaN</td>\n",
       "      <td>NaN</td>\n",
       "      <td>NaN</td>\n",
       "      <td>NaN</td>\n",
       "      <td>NaN</td>\n",
       "      <td>NaN</td>\n",
       "      <td>NaN</td>\n",
       "    </tr>\n",
       "    <tr>\n",
       "      <th>PROD_QTY</th>\n",
       "      <td>240676.0</td>\n",
       "      <td>NaN</td>\n",
       "      <td>NaN</td>\n",
       "      <td>NaN</td>\n",
       "      <td>NaT</td>\n",
       "      <td>NaT</td>\n",
       "      <td>1.906501</td>\n",
       "      <td>0.342453</td>\n",
       "      <td>1.0</td>\n",
       "      <td>2.0</td>\n",
       "      <td>2.0</td>\n",
       "      <td>2.0</td>\n",
       "      <td>5.0</td>\n",
       "    </tr>\n",
       "    <tr>\n",
       "      <th>TOT_SALES</th>\n",
       "      <td>240676.0</td>\n",
       "      <td>NaN</td>\n",
       "      <td>NaN</td>\n",
       "      <td>NaN</td>\n",
       "      <td>NaT</td>\n",
       "      <td>NaT</td>\n",
       "      <td>7.345252</td>\n",
       "      <td>2.48981</td>\n",
       "      <td>1.7</td>\n",
       "      <td>5.8</td>\n",
       "      <td>7.4</td>\n",
       "      <td>8.8</td>\n",
       "      <td>29.5</td>\n",
       "    </tr>\n",
       "    <tr>\n",
       "      <th>PACK_SIZE</th>\n",
       "      <td>240676.0</td>\n",
       "      <td>NaN</td>\n",
       "      <td>NaN</td>\n",
       "      <td>NaN</td>\n",
       "      <td>NaT</td>\n",
       "      <td>NaT</td>\n",
       "      <td>175.302286</td>\n",
       "      <td>60.014468</td>\n",
       "      <td>70.0</td>\n",
       "      <td>150.0</td>\n",
       "      <td>170.0</td>\n",
       "      <td>175.0</td>\n",
       "      <td>380.0</td>\n",
       "    </tr>\n",
       "    <tr>\n",
       "      <th>BRAND</th>\n",
       "      <td>240676</td>\n",
       "      <td>28</td>\n",
       "      <td>Kettle</td>\n",
       "      <td>41288</td>\n",
       "      <td>NaT</td>\n",
       "      <td>NaT</td>\n",
       "      <td>NaN</td>\n",
       "      <td>NaN</td>\n",
       "      <td>NaN</td>\n",
       "      <td>NaN</td>\n",
       "      <td>NaN</td>\n",
       "      <td>NaN</td>\n",
       "      <td>NaN</td>\n",
       "    </tr>\n",
       "  </tbody>\n",
       "</table>\n",
       "</div>"
      ],
      "text/plain": [
       "                     count unique                                     top  \\\n",
       "LYLTY_CARD_NBR    240676.0    NaN                                     NaN   \n",
       "LIFESTAGE           240676      7                   OLDER SINGLES/COUPLES   \n",
       "PREMIUM_CUSTOMER    240676      3                              Mainstream   \n",
       "DATE                240676    364                     2018-12-24 00:00:00   \n",
       "STORE_NBR         240676.0    NaN                                     NaN   \n",
       "TXN_ID            240676.0    NaN                                     NaN   \n",
       "PROD_NBR          240676.0    NaN                                     NaN   \n",
       "PROD_NAME           240676    102  Kettle Mozzarella   Basil & Pesto 175g   \n",
       "PROD_QTY          240676.0    NaN                                     NaN   \n",
       "TOT_SALES         240676.0    NaN                                     NaN   \n",
       "PACK_SIZE         240676.0    NaN                                     NaN   \n",
       "BRAND               240676     28                                  Kettle   \n",
       "\n",
       "                   freq      first       last           mean           std  \\\n",
       "LYLTY_CARD_NBR      NaN        NaT        NaT  135575.998637  80813.089071   \n",
       "LIFESTAGE         49547        NaT        NaT            NaN           NaN   \n",
       "PREMIUM_CUSTOMER  92729        NaT        NaT            NaN           NaN   \n",
       "DATE                847 2018-07-01 2019-06-30            NaN           NaN   \n",
       "STORE_NBR           NaN        NaT        NaT     135.087599     76.788631   \n",
       "TXN_ID              NaN        NaT        NaT  135170.441124  78153.577212   \n",
       "PROD_NBR            NaN        NaT        NaT      56.577822     34.073046   \n",
       "PROD_NAME          3304        NaT        NaT            NaN           NaN   \n",
       "PROD_QTY            NaN        NaT        NaT       1.906501      0.342453   \n",
       "TOT_SALES           NaN        NaT        NaT       7.345252       2.48981   \n",
       "PACK_SIZE           NaN        NaT        NaT     175.302286     60.014468   \n",
       "BRAND             41288        NaT        NaT            NaN           NaN   \n",
       "\n",
       "                     min       25%       50%        75%        max  \n",
       "LYLTY_CARD_NBR    1000.0   70019.0  130388.0   203096.0  2373711.0  \n",
       "LIFESTAGE            NaN       NaN       NaN        NaN        NaN  \n",
       "PREMIUM_CUSTOMER     NaN       NaN       NaN        NaN        NaN  \n",
       "DATE                 NaN       NaN       NaN        NaN        NaN  \n",
       "STORE_NBR            1.0      70.0     130.0      203.0      272.0  \n",
       "TXN_ID               1.0  67590.75  135279.5  202705.25  2415841.0  \n",
       "PROD_NBR             1.0      26.0      55.0       87.0      114.0  \n",
       "PROD_NAME            NaN       NaN       NaN        NaN        NaN  \n",
       "PROD_QTY             1.0       2.0       2.0        2.0        5.0  \n",
       "TOT_SALES            1.7       5.8       7.4        8.8       29.5  \n",
       "PACK_SIZE           70.0     150.0     170.0      175.0      380.0  \n",
       "BRAND                NaN       NaN       NaN        NaN        NaN  "
      ]
     },
     "execution_count": 39,
     "metadata": {},
     "output_type": "execute_result"
    }
   ],
   "source": [
    "data.describe(include='all').T"
   ]
  },
  {
   "cell_type": "markdown",
   "metadata": {},
   "source": [
    "# DATA ANALYSIS"
   ]
  },
  {
   "cell_type": "markdown",
   "metadata": {},
   "source": [
    "### Metrics\n",
    "1 - Total sales.\n",
    "\n",
    "2 - some of the top product names with PROD_QTY = 5.0.\n",
    "\n",
    "3 - Top and Bottom 10 products and the life stages.\n",
    "\n",
    "4 - Top and Bottom 10 Products by the premium customers.\n",
    "\n",
    "5 - Top and Bottom 10 stores by PROD_QTY by TOT_SALES.\n",
    "\n",
    "6 - Total Sales by Customer segment (LIFESTAGE and PREMIUM_CUSTOMER) - here we want to find out which customers spend the most on chips.\n",
    "\n",
    "7 - Number of Customers in each Segment - here we're intrested in knowing how many customers are in each of this customer groups.\n",
    "\n",
    "8 - Average Number of Chips Bought per Customer by Segment - we are looking at how many chips, on average, each customerin this segmenst buys.\n",
    "\n",
    "9 - Average chip price by Customer Segment -  this metrics helps us understand the average price at which chips are sold to customers in different segments.\n",
    "\n",
    "10 - Statistical Test for Price Differences - we perform a test to check if there's a significant difference in average chip prices between specific \n",
    "customer groups.\n",
    "\n",
    "11 - Deep Dive into Mainstream,Young singles/Couples -  we focus on a specific customer segment, \"Mainstream, Young singles/couples,\" to gain deeper insights.\n",
    "\n",
    "12 - Analyze preferred Pack Sizes"
   ]
  },
  {
   "cell_type": "markdown",
   "metadata": {},
   "source": [
    "### 1 - Total sales"
   ]
  },
  {
   "cell_type": "code",
   "execution_count": 40,
   "metadata": {},
   "outputs": [
    {
     "name": "stdout",
     "output_type": "stream",
     "text": [
      "The total sales is: 1767825.9\n",
      "The highest sale is: 30.0\n",
      "The lowest sale is: 2.0\n"
     ]
    }
   ],
   "source": [
    "# Total sales\n",
    "total_sales = np.sum(data['TOT_SALES'])\n",
    "print (\"The total sales is: {}\".format(round(total_sales, 1)))\n",
    "max_sales = max(data['TOT_SALES'])\n",
    "print (\"The highest sale is: {}\".format(round(max_sales, 0)))\n",
    "min_sales =min(data['TOT_SALES'])\n",
    "print (\"The lowest sale is: {}\".format(round(min_sales, 0)))"
   ]
  },
  {
   "cell_type": "markdown",
   "metadata": {},
   "source": [
    "### 2 - Products (PROD_NAME) that have a quantity of 5.0 (PROD_QTY)\n"
   ]
  },
  {
   "cell_type": "code",
   "execution_count": 41,
   "metadata": {},
   "outputs": [
    {
     "name": "stdout",
     "output_type": "stream",
     "text": [
      "Count of all products with PROD_QTY 5.0: 405\n",
      "list of five of the products\n"
     ]
    },
    {
     "data": {
      "text/plain": [
       "891       Smiths Chip Thinly  S/Cream&Onion 175g\n",
       "1067            Thins Chips Salt &  Vinegar 175g\n",
       "1103            Pringles Sthrn FriedChicken 134g\n",
       "1270       Grain Waves         Sweet Chilli 210g\n",
       "1637    Kettle Sensations   Camembert & Fig 150g\n",
       "Name: PROD_NAME, dtype: object"
      ]
     },
     "execution_count": 41,
     "metadata": {},
     "output_type": "execute_result"
    }
   ],
   "source": [
    "filterd_values = data[data['PROD_QTY'] == 5.0]['PROD_NAME']\n",
    "filterd_value =filterd_values.count()\n",
    "print ('Count of all products with PROD_QTY 5.0: {}'.format(filterd_value))\n",
    "print('list of five of the products')\n",
    "filterd_values.head()"
   ]
  },
  {
   "cell_type": "markdown",
   "metadata": {},
   "source": [
    "### 3 - Top 10  and Bottom 10 products and the life stages"
   ]
  },
  {
   "cell_type": "code",
   "execution_count": 42,
   "metadata": {},
   "outputs": [
    {
     "name": "stdout",
     "output_type": "stream",
     "text": [
      "The Top 10 products\n"
     ]
    },
    {
     "data": {
      "text/html": [
       "<div>\n",
       "<style scoped>\n",
       "    .dataframe tbody tr th:only-of-type {\n",
       "        vertical-align: middle;\n",
       "    }\n",
       "\n",
       "    .dataframe tbody tr th {\n",
       "        vertical-align: top;\n",
       "    }\n",
       "\n",
       "    .dataframe thead th {\n",
       "        text-align: right;\n",
       "    }\n",
       "</style>\n",
       "<table border=\"1\" class=\"dataframe\">\n",
       "  <thead>\n",
       "    <tr style=\"text-align: right;\">\n",
       "      <th></th>\n",
       "      <th>Product</th>\n",
       "      <th>Life Stage</th>\n",
       "      <th>Total Sales</th>\n",
       "    </tr>\n",
       "  </thead>\n",
       "  <tbody>\n",
       "    <tr>\n",
       "      <th>1</th>\n",
       "      <td>Smiths Crnkle Chip  Orgnl Big Bag 380g</td>\n",
       "      <td>RETIREES</td>\n",
       "      <td>29.5</td>\n",
       "    </tr>\n",
       "    <tr>\n",
       "      <th>2</th>\n",
       "      <td>Smiths Crnkle Chip  Orgnl Big Bag 380g</td>\n",
       "      <td>YOUNG FAMILIES</td>\n",
       "      <td>29.5</td>\n",
       "    </tr>\n",
       "    <tr>\n",
       "      <th>3</th>\n",
       "      <td>Smiths Crnkle Chip  Orgnl Big Bag 380g</td>\n",
       "      <td>OLDER FAMILIES</td>\n",
       "      <td>29.5</td>\n",
       "    </tr>\n",
       "    <tr>\n",
       "      <th>4</th>\n",
       "      <td>Smiths Crnkle Chip  Orgnl Big Bag 380g</td>\n",
       "      <td>MIDAGE SINGLES/COUPLES</td>\n",
       "      <td>29.5</td>\n",
       "    </tr>\n",
       "    <tr>\n",
       "      <th>5</th>\n",
       "      <td>Smiths Crnkle Chip  Orgnl Big Bag 380g</td>\n",
       "      <td>RETIREES</td>\n",
       "      <td>29.5</td>\n",
       "    </tr>\n",
       "    <tr>\n",
       "      <th>6</th>\n",
       "      <td>Smiths Crnkle Chip  Orgnl Big Bag 380g</td>\n",
       "      <td>OLDER FAMILIES</td>\n",
       "      <td>29.5</td>\n",
       "    </tr>\n",
       "    <tr>\n",
       "      <th>7</th>\n",
       "      <td>Smiths Crnkle Chip  Orgnl Big Bag 380g</td>\n",
       "      <td>OLDER SINGLES/COUPLES</td>\n",
       "      <td>29.5</td>\n",
       "    </tr>\n",
       "    <tr>\n",
       "      <th>8</th>\n",
       "      <td>Cheezels Cheese 330g</td>\n",
       "      <td>OLDER FAMILIES</td>\n",
       "      <td>28.5</td>\n",
       "    </tr>\n",
       "    <tr>\n",
       "      <th>9</th>\n",
       "      <td>Smiths Crinkle      Original 330g</td>\n",
       "      <td>MIDAGE SINGLES/COUPLES</td>\n",
       "      <td>28.5</td>\n",
       "    </tr>\n",
       "    <tr>\n",
       "      <th>10</th>\n",
       "      <td>Smiths Crinkle Chips Salt &amp; Vinegar 330g</td>\n",
       "      <td>RETIREES</td>\n",
       "      <td>28.5</td>\n",
       "    </tr>\n",
       "  </tbody>\n",
       "</table>\n",
       "</div>"
      ],
      "text/plain": [
       "                                     Product              Life Stage  \\\n",
       "1     Smiths Crnkle Chip  Orgnl Big Bag 380g                RETIREES   \n",
       "2     Smiths Crnkle Chip  Orgnl Big Bag 380g          YOUNG FAMILIES   \n",
       "3     Smiths Crnkle Chip  Orgnl Big Bag 380g          OLDER FAMILIES   \n",
       "4     Smiths Crnkle Chip  Orgnl Big Bag 380g  MIDAGE SINGLES/COUPLES   \n",
       "5     Smiths Crnkle Chip  Orgnl Big Bag 380g                RETIREES   \n",
       "6     Smiths Crnkle Chip  Orgnl Big Bag 380g          OLDER FAMILIES   \n",
       "7     Smiths Crnkle Chip  Orgnl Big Bag 380g   OLDER SINGLES/COUPLES   \n",
       "8                       Cheezels Cheese 330g          OLDER FAMILIES   \n",
       "9          Smiths Crinkle      Original 330g  MIDAGE SINGLES/COUPLES   \n",
       "10  Smiths Crinkle Chips Salt & Vinegar 330g                RETIREES   \n",
       "\n",
       "    Total Sales  \n",
       "1          29.5  \n",
       "2          29.5  \n",
       "3          29.5  \n",
       "4          29.5  \n",
       "5          29.5  \n",
       "6          29.5  \n",
       "7          29.5  \n",
       "8          28.5  \n",
       "9          28.5  \n",
       "10         28.5  "
      ]
     },
     "execution_count": 42,
     "metadata": {},
     "output_type": "execute_result"
    }
   ],
   "source": [
    "top_five = data.nlargest(10, 'TOT_SALES')[['PROD_NAME','LIFESTAGE','TOT_SALES']].rename(columns={\n",
    "    'PROD_NAME': 'Product',\n",
    "    'LIFESTAGE':'Life Stage',\n",
    "    'TOT_SALES': 'Total Sales'\n",
    "}).reset_index(drop=True)\n",
    "top_five.index += 1\n",
    "print (\"The Top 10 products\")\n",
    "top_five"
   ]
  },
  {
   "cell_type": "code",
   "execution_count": 43,
   "metadata": {},
   "outputs": [
    {
     "name": "stdout",
     "output_type": "stream",
     "text": [
      "The bottom 10 products\n"
     ]
    },
    {
     "data": {
      "text/html": [
       "<div>\n",
       "<style scoped>\n",
       "    .dataframe tbody tr th:only-of-type {\n",
       "        vertical-align: middle;\n",
       "    }\n",
       "\n",
       "    .dataframe tbody tr th {\n",
       "        vertical-align: top;\n",
       "    }\n",
       "\n",
       "    .dataframe thead th {\n",
       "        text-align: right;\n",
       "    }\n",
       "</style>\n",
       "<table border=\"1\" class=\"dataframe\">\n",
       "  <thead>\n",
       "    <tr style=\"text-align: right;\">\n",
       "      <th></th>\n",
       "      <th>Product</th>\n",
       "      <th>Life Stage</th>\n",
       "      <th>Total Sales</th>\n",
       "    </tr>\n",
       "  </thead>\n",
       "  <tbody>\n",
       "    <tr>\n",
       "      <th>0</th>\n",
       "      <td>WW Crinkle Cut      Chicken 175g</td>\n",
       "      <td>YOUNG FAMILIES</td>\n",
       "      <td>1.7</td>\n",
       "    </tr>\n",
       "    <tr>\n",
       "      <th>1</th>\n",
       "      <td>Sunbites Whlegrn    Crisps Frch/Onin 90g</td>\n",
       "      <td>OLDER SINGLES/COUPLES</td>\n",
       "      <td>1.7</td>\n",
       "    </tr>\n",
       "    <tr>\n",
       "      <th>2</th>\n",
       "      <td>Sunbites Whlegrn    Crisps Frch/Onin 90g</td>\n",
       "      <td>YOUNG SINGLES/COUPLES</td>\n",
       "      <td>1.7</td>\n",
       "    </tr>\n",
       "    <tr>\n",
       "      <th>3</th>\n",
       "      <td>Sunbites Whlegrn    Crisps Frch/Onin 90g</td>\n",
       "      <td>NEW FAMILIES</td>\n",
       "      <td>1.7</td>\n",
       "    </tr>\n",
       "    <tr>\n",
       "      <th>4</th>\n",
       "      <td>Snbts Whlgrn Crisps Cheddr&amp;Mstrd 90g</td>\n",
       "      <td>RETIREES</td>\n",
       "      <td>1.7</td>\n",
       "    </tr>\n",
       "    <tr>\n",
       "      <th>5</th>\n",
       "      <td>Snbts Whlgrn Crisps Cheddr&amp;Mstrd 90g</td>\n",
       "      <td>NEW FAMILIES</td>\n",
       "      <td>1.7</td>\n",
       "    </tr>\n",
       "    <tr>\n",
       "      <th>6</th>\n",
       "      <td>WW Crinkle Cut      Original 175g</td>\n",
       "      <td>NEW FAMILIES</td>\n",
       "      <td>1.7</td>\n",
       "    </tr>\n",
       "    <tr>\n",
       "      <th>7</th>\n",
       "      <td>Snbts Whlgrn Crisps Cheddr&amp;Mstrd 90g</td>\n",
       "      <td>OLDER SINGLES/COUPLES</td>\n",
       "      <td>1.7</td>\n",
       "    </tr>\n",
       "    <tr>\n",
       "      <th>8</th>\n",
       "      <td>Sunbites Whlegrn    Crisps Frch/Onin 90g</td>\n",
       "      <td>YOUNG SINGLES/COUPLES</td>\n",
       "      <td>1.7</td>\n",
       "    </tr>\n",
       "    <tr>\n",
       "      <th>9</th>\n",
       "      <td>WW Crinkle Cut      Original 175g</td>\n",
       "      <td>YOUNG SINGLES/COUPLES</td>\n",
       "      <td>1.7</td>\n",
       "    </tr>\n",
       "  </tbody>\n",
       "</table>\n",
       "</div>"
      ],
      "text/plain": [
       "                                    Product             Life Stage  \\\n",
       "0          WW Crinkle Cut      Chicken 175g         YOUNG FAMILIES   \n",
       "1  Sunbites Whlegrn    Crisps Frch/Onin 90g  OLDER SINGLES/COUPLES   \n",
       "2  Sunbites Whlegrn    Crisps Frch/Onin 90g  YOUNG SINGLES/COUPLES   \n",
       "3  Sunbites Whlegrn    Crisps Frch/Onin 90g           NEW FAMILIES   \n",
       "4      Snbts Whlgrn Crisps Cheddr&Mstrd 90g               RETIREES   \n",
       "5      Snbts Whlgrn Crisps Cheddr&Mstrd 90g           NEW FAMILIES   \n",
       "6         WW Crinkle Cut      Original 175g           NEW FAMILIES   \n",
       "7      Snbts Whlgrn Crisps Cheddr&Mstrd 90g  OLDER SINGLES/COUPLES   \n",
       "8  Sunbites Whlegrn    Crisps Frch/Onin 90g  YOUNG SINGLES/COUPLES   \n",
       "9         WW Crinkle Cut      Original 175g  YOUNG SINGLES/COUPLES   \n",
       "\n",
       "   Total Sales  \n",
       "0          1.7  \n",
       "1          1.7  \n",
       "2          1.7  \n",
       "3          1.7  \n",
       "4          1.7  \n",
       "5          1.7  \n",
       "6          1.7  \n",
       "7          1.7  \n",
       "8          1.7  \n",
       "9          1.7  "
      ]
     },
     "execution_count": 43,
     "metadata": {},
     "output_type": "execute_result"
    }
   ],
   "source": [
    "bottom_five = data.nsmallest(10, 'TOT_SALES')[['PROD_NAME','LIFESTAGE','TOT_SALES']].rename(columns={\n",
    "    'PROD_NAME': 'Product',\n",
    "    'LIFESTAGE':'Life Stage',\n",
    "    'TOT_SALES': 'Total Sales'\n",
    "}).reset_index(drop=True)\n",
    "\n",
    "print (\"The bottom 10 products\")\n",
    "bottom_five"
   ]
  },
  {
   "cell_type": "markdown",
   "metadata": {},
   "source": [
    "### 4 - Top 10 and Bottom 10 PRODUCTS TAKEN BY THE PREMIUMS"
   ]
  },
  {
   "cell_type": "code",
   "execution_count": 44,
   "metadata": {},
   "outputs": [
    {
     "name": "stdout",
     "output_type": "stream",
     "text": [
      "The Top 10 Products\n"
     ]
    },
    {
     "data": {
      "text/html": [
       "<div>\n",
       "<style scoped>\n",
       "    .dataframe tbody tr th:only-of-type {\n",
       "        vertical-align: middle;\n",
       "    }\n",
       "\n",
       "    .dataframe tbody tr th {\n",
       "        vertical-align: top;\n",
       "    }\n",
       "\n",
       "    .dataframe thead th {\n",
       "        text-align: right;\n",
       "    }\n",
       "</style>\n",
       "<table border=\"1\" class=\"dataframe\">\n",
       "  <thead>\n",
       "    <tr style=\"text-align: right;\">\n",
       "      <th></th>\n",
       "      <th>0</th>\n",
       "    </tr>\n",
       "  </thead>\n",
       "  <tbody>\n",
       "    <tr>\n",
       "      <th>1</th>\n",
       "      <td>Natural Chip        Compny SeaSalt175g</td>\n",
       "    </tr>\n",
       "    <tr>\n",
       "      <th>2</th>\n",
       "      <td>Doritos Cheese      Supreme 330g</td>\n",
       "    </tr>\n",
       "    <tr>\n",
       "      <th>3</th>\n",
       "      <td>GrnWves Plus Btroot &amp; Chilli Jam 180g</td>\n",
       "    </tr>\n",
       "    <tr>\n",
       "      <th>4</th>\n",
       "      <td>RRD Sweet Chilli &amp;  Sour Cream 165g</td>\n",
       "    </tr>\n",
       "    <tr>\n",
       "      <th>5</th>\n",
       "      <td>CCs Tasty Cheese    175g</td>\n",
       "    </tr>\n",
       "    <tr>\n",
       "      <th>6</th>\n",
       "      <td>Infuzions Mango     Chutny Papadums 70g</td>\n",
       "    </tr>\n",
       "    <tr>\n",
       "      <th>7</th>\n",
       "      <td>Smiths Crinkle Chips Salt &amp; Vinegar 330g</td>\n",
       "    </tr>\n",
       "    <tr>\n",
       "      <th>8</th>\n",
       "      <td>Cobs Popd Sea Salt  Chips 110g</td>\n",
       "    </tr>\n",
       "    <tr>\n",
       "      <th>9</th>\n",
       "      <td>Natural ChipCo Sea  Salt &amp; Vinegr 175g</td>\n",
       "    </tr>\n",
       "    <tr>\n",
       "      <th>10</th>\n",
       "      <td>Burger Rings 220g</td>\n",
       "    </tr>\n",
       "  </tbody>\n",
       "</table>\n",
       "</div>"
      ],
      "text/plain": [
       "                                           0\n",
       "1     Natural Chip        Compny SeaSalt175g\n",
       "2           Doritos Cheese      Supreme 330g\n",
       "3      GrnWves Plus Btroot & Chilli Jam 180g\n",
       "4        RRD Sweet Chilli &  Sour Cream 165g\n",
       "5                   CCs Tasty Cheese    175g\n",
       "6    Infuzions Mango     Chutny Papadums 70g\n",
       "7   Smiths Crinkle Chips Salt & Vinegar 330g\n",
       "8             Cobs Popd Sea Salt  Chips 110g\n",
       "9     Natural ChipCo Sea  Salt & Vinegr 175g\n",
       "10                         Burger Rings 220g"
      ]
     },
     "execution_count": 44,
     "metadata": {},
     "output_type": "execute_result"
    }
   ],
   "source": [
    "\n",
    "#The Top 10 Products\n",
    "\n",
    "unique_premium = data['PREMIUM_CUSTOMER'].unique()\n",
    "\n",
    "count_dict ={}\n",
    "for premium_value in unique_premium:\n",
    "    filtered_df = data[data['PREMIUM_CUSTOMER'] == premium_value]\n",
    "    count = filtered_df['PROD_NAME'].unique()\n",
    "    count_dict[premium_value] = count\n",
    "\n",
    "\n",
    "\n",
    "top_10_values = pd.DataFrame(count_dict[max(count_dict, key = lambda k : len(count_dict[k]))][:10]).reset_index(drop=True)\n",
    "top_10_values.index += 1\n",
    "top_10_values\n",
    "print ('The Top 10 Products')\n",
    "top_10_values"
   ]
  },
  {
   "cell_type": "code",
   "execution_count": 45,
   "metadata": {},
   "outputs": [
    {
     "name": "stdout",
     "output_type": "stream",
     "text": [
      "The Top 10 Products\n"
     ]
    },
    {
     "data": {
      "text/html": [
       "<div>\n",
       "<style scoped>\n",
       "    .dataframe tbody tr th:only-of-type {\n",
       "        vertical-align: middle;\n",
       "    }\n",
       "\n",
       "    .dataframe tbody tr th {\n",
       "        vertical-align: top;\n",
       "    }\n",
       "\n",
       "    .dataframe thead th {\n",
       "        text-align: right;\n",
       "    }\n",
       "</style>\n",
       "<table border=\"1\" class=\"dataframe\">\n",
       "  <thead>\n",
       "    <tr style=\"text-align: right;\">\n",
       "      <th></th>\n",
       "      <th>0</th>\n",
       "    </tr>\n",
       "  </thead>\n",
       "  <tbody>\n",
       "    <tr>\n",
       "      <th>1</th>\n",
       "      <td>Natural Chip        Compny SeaSalt175g</td>\n",
       "    </tr>\n",
       "    <tr>\n",
       "      <th>2</th>\n",
       "      <td>Doritos Cheese      Supreme 330g</td>\n",
       "    </tr>\n",
       "    <tr>\n",
       "      <th>3</th>\n",
       "      <td>GrnWves Plus Btroot &amp; Chilli Jam 180g</td>\n",
       "    </tr>\n",
       "    <tr>\n",
       "      <th>4</th>\n",
       "      <td>RRD Sweet Chilli &amp;  Sour Cream 165g</td>\n",
       "    </tr>\n",
       "    <tr>\n",
       "      <th>5</th>\n",
       "      <td>CCs Tasty Cheese    175g</td>\n",
       "    </tr>\n",
       "    <tr>\n",
       "      <th>6</th>\n",
       "      <td>Infuzions Mango     Chutny Papadums 70g</td>\n",
       "    </tr>\n",
       "    <tr>\n",
       "      <th>7</th>\n",
       "      <td>Smiths Crinkle Chips Salt &amp; Vinegar 330g</td>\n",
       "    </tr>\n",
       "    <tr>\n",
       "      <th>8</th>\n",
       "      <td>Cobs Popd Sea Salt  Chips 110g</td>\n",
       "    </tr>\n",
       "    <tr>\n",
       "      <th>9</th>\n",
       "      <td>Natural ChipCo Sea  Salt &amp; Vinegr 175g</td>\n",
       "    </tr>\n",
       "    <tr>\n",
       "      <th>10</th>\n",
       "      <td>Burger Rings 220g</td>\n",
       "    </tr>\n",
       "  </tbody>\n",
       "</table>\n",
       "</div>"
      ],
      "text/plain": [
       "                                           0\n",
       "1     Natural Chip        Compny SeaSalt175g\n",
       "2           Doritos Cheese      Supreme 330g\n",
       "3      GrnWves Plus Btroot & Chilli Jam 180g\n",
       "4        RRD Sweet Chilli &  Sour Cream 165g\n",
       "5                   CCs Tasty Cheese    175g\n",
       "6    Infuzions Mango     Chutny Papadums 70g\n",
       "7   Smiths Crinkle Chips Salt & Vinegar 330g\n",
       "8             Cobs Popd Sea Salt  Chips 110g\n",
       "9     Natural ChipCo Sea  Salt & Vinegr 175g\n",
       "10                         Burger Rings 220g"
      ]
     },
     "execution_count": 45,
     "metadata": {},
     "output_type": "execute_result"
    }
   ],
   "source": [
    "#the Bottom 10 Products\n",
    "unique_premium = data['PREMIUM_CUSTOMER'].unique()\n",
    "\n",
    "count_dict ={}\n",
    "for premium_value in unique_premium:\n",
    "    filtered_df = data[data['PREMIUM_CUSTOMER'] == premium_value]\n",
    "    count = filtered_df['PROD_NAME'].unique()\n",
    "    count_dict[premium_value] = count\n",
    "\n",
    "\n",
    "\n",
    "botto_10_values = pd.DataFrame(count_dict[min(count_dict, key = lambda k : len(count_dict[k]))][:10]).reset_index(drop=True)\n",
    "botto_10_values.index += 1\n",
    "botto_10_values\n",
    "\n",
    "print ('The Top 10 Products')\n",
    "botto_10_values"
   ]
  },
  {
   "cell_type": "markdown",
   "metadata": {},
   "source": [
    "### 5 - Top 10 and Bottom 10 stores with PROD_QTY 5.0 by TOT_SALES"
   ]
  },
  {
   "cell_type": "code",
   "execution_count": 46,
   "metadata": {},
   "outputs": [
    {
     "name": "stdout",
     "output_type": "stream",
     "text": [
      "The Top 10 Stores\n"
     ]
    },
    {
     "data": {
      "text/html": [
       "<div>\n",
       "<style scoped>\n",
       "    .dataframe tbody tr th:only-of-type {\n",
       "        vertical-align: middle;\n",
       "    }\n",
       "\n",
       "    .dataframe tbody tr th {\n",
       "        vertical-align: top;\n",
       "    }\n",
       "\n",
       "    .dataframe thead th {\n",
       "        text-align: right;\n",
       "    }\n",
       "</style>\n",
       "<table border=\"1\" class=\"dataframe\">\n",
       "  <thead>\n",
       "    <tr style=\"text-align: right;\">\n",
       "      <th></th>\n",
       "      <th>Store number</th>\n",
       "      <th>Product Quality</th>\n",
       "      <th>Total Sales</th>\n",
       "    </tr>\n",
       "  </thead>\n",
       "  <tbody>\n",
       "    <tr>\n",
       "      <th>1</th>\n",
       "      <td>194.0</td>\n",
       "      <td>5.0</td>\n",
       "      <td>29.5</td>\n",
       "    </tr>\n",
       "    <tr>\n",
       "      <th>2</th>\n",
       "      <td>190.0</td>\n",
       "      <td>5.0</td>\n",
       "      <td>29.5</td>\n",
       "    </tr>\n",
       "    <tr>\n",
       "      <th>3</th>\n",
       "      <td>24.0</td>\n",
       "      <td>5.0</td>\n",
       "      <td>29.5</td>\n",
       "    </tr>\n",
       "    <tr>\n",
       "      <th>4</th>\n",
       "      <td>94.0</td>\n",
       "      <td>5.0</td>\n",
       "      <td>29.5</td>\n",
       "    </tr>\n",
       "    <tr>\n",
       "      <th>5</th>\n",
       "      <td>44.0</td>\n",
       "      <td>5.0</td>\n",
       "      <td>29.5</td>\n",
       "    </tr>\n",
       "    <tr>\n",
       "      <th>6</th>\n",
       "      <td>49.0</td>\n",
       "      <td>5.0</td>\n",
       "      <td>29.5</td>\n",
       "    </tr>\n",
       "    <tr>\n",
       "      <th>7</th>\n",
       "      <td>118.0</td>\n",
       "      <td>5.0</td>\n",
       "      <td>29.5</td>\n",
       "    </tr>\n",
       "    <tr>\n",
       "      <th>8</th>\n",
       "      <td>154.0</td>\n",
       "      <td>5.0</td>\n",
       "      <td>28.5</td>\n",
       "    </tr>\n",
       "    <tr>\n",
       "      <th>9</th>\n",
       "      <td>96.0</td>\n",
       "      <td>5.0</td>\n",
       "      <td>28.5</td>\n",
       "    </tr>\n",
       "    <tr>\n",
       "      <th>10</th>\n",
       "      <td>181.0</td>\n",
       "      <td>5.0</td>\n",
       "      <td>28.5</td>\n",
       "    </tr>\n",
       "  </tbody>\n",
       "</table>\n",
       "</div>"
      ],
      "text/plain": [
       "    Store number  Product Quality  Total Sales\n",
       "1          194.0              5.0         29.5\n",
       "2          190.0              5.0         29.5\n",
       "3           24.0              5.0         29.5\n",
       "4           94.0              5.0         29.5\n",
       "5           44.0              5.0         29.5\n",
       "6           49.0              5.0         29.5\n",
       "7          118.0              5.0         29.5\n",
       "8          154.0              5.0         28.5\n",
       "9           96.0              5.0         28.5\n",
       "10         181.0              5.0         28.5"
      ]
     },
     "execution_count": 46,
     "metadata": {},
     "output_type": "execute_result"
    }
   ],
   "source": [
    "#Top 10 stores\n",
    "#FILTERING BY PROD_QTY\n",
    "filterd_df = data[data['PROD_QTY'] == 5.0]\n",
    "#SORT BY TOT_SALES IN DESECNDING ORDER AND GET TOP 10 ROWS\n",
    "top_10_sales = filterd_df.sort_values(by = 'TOT_SALES',ascending=False).head(10)\n",
    "#rename columns\n",
    "top_10_sales = top_10_sales[['STORE_NBR','PROD_QTY','TOT_SALES']].rename(columns={'STORE_NBR':'Store number','PROD_QTY':'Product Quality','TOT_SALES':'Total Sales'}).reset_index(drop=True)\n",
    "top_10_sales.index +=1\n",
    "top_10_sales\n",
    "print('The Top 10 Stores')\n",
    "top_10_sales"
   ]
  },
  {
   "cell_type": "code",
   "execution_count": 47,
   "metadata": {},
   "outputs": [
    {
     "name": "stdout",
     "output_type": "stream",
     "text": [
      "The Bottom 10 Stores\n"
     ]
    },
    {
     "data": {
      "text/html": [
       "<div>\n",
       "<style scoped>\n",
       "    .dataframe tbody tr th:only-of-type {\n",
       "        vertical-align: middle;\n",
       "    }\n",
       "\n",
       "    .dataframe tbody tr th {\n",
       "        vertical-align: top;\n",
       "    }\n",
       "\n",
       "    .dataframe thead th {\n",
       "        text-align: right;\n",
       "    }\n",
       "</style>\n",
       "<table border=\"1\" class=\"dataframe\">\n",
       "  <thead>\n",
       "    <tr style=\"text-align: right;\">\n",
       "      <th></th>\n",
       "      <th>Store number</th>\n",
       "      <th>Product Quality</th>\n",
       "      <th>Total Sales</th>\n",
       "    </tr>\n",
       "  </thead>\n",
       "  <tbody>\n",
       "    <tr>\n",
       "      <th>1</th>\n",
       "      <td>214.0</td>\n",
       "      <td>1.0</td>\n",
       "      <td>1.7</td>\n",
       "    </tr>\n",
       "    <tr>\n",
       "      <th>2</th>\n",
       "      <td>38.0</td>\n",
       "      <td>1.0</td>\n",
       "      <td>1.7</td>\n",
       "    </tr>\n",
       "    <tr>\n",
       "      <th>3</th>\n",
       "      <td>98.0</td>\n",
       "      <td>1.0</td>\n",
       "      <td>1.7</td>\n",
       "    </tr>\n",
       "    <tr>\n",
       "      <th>4</th>\n",
       "      <td>110.0</td>\n",
       "      <td>1.0</td>\n",
       "      <td>1.7</td>\n",
       "    </tr>\n",
       "    <tr>\n",
       "      <th>5</th>\n",
       "      <td>233.0</td>\n",
       "      <td>1.0</td>\n",
       "      <td>1.7</td>\n",
       "    </tr>\n",
       "    <tr>\n",
       "      <th>6</th>\n",
       "      <td>98.0</td>\n",
       "      <td>1.0</td>\n",
       "      <td>1.7</td>\n",
       "    </tr>\n",
       "    <tr>\n",
       "      <th>7</th>\n",
       "      <td>262.0</td>\n",
       "      <td>1.0</td>\n",
       "      <td>1.7</td>\n",
       "    </tr>\n",
       "    <tr>\n",
       "      <th>8</th>\n",
       "      <td>51.0</td>\n",
       "      <td>1.0</td>\n",
       "      <td>1.7</td>\n",
       "    </tr>\n",
       "    <tr>\n",
       "      <th>9</th>\n",
       "      <td>70.0</td>\n",
       "      <td>1.0</td>\n",
       "      <td>1.7</td>\n",
       "    </tr>\n",
       "    <tr>\n",
       "      <th>10</th>\n",
       "      <td>50.0</td>\n",
       "      <td>1.0</td>\n",
       "      <td>1.7</td>\n",
       "    </tr>\n",
       "  </tbody>\n",
       "</table>\n",
       "</div>"
      ],
      "text/plain": [
       "    Store number  Product Quality  Total Sales\n",
       "1          214.0              1.0          1.7\n",
       "2           38.0              1.0          1.7\n",
       "3           98.0              1.0          1.7\n",
       "4          110.0              1.0          1.7\n",
       "5          233.0              1.0          1.7\n",
       "6           98.0              1.0          1.7\n",
       "7          262.0              1.0          1.7\n",
       "8           51.0              1.0          1.7\n",
       "9           70.0              1.0          1.7\n",
       "10          50.0              1.0          1.7"
      ]
     },
     "execution_count": 47,
     "metadata": {},
     "output_type": "execute_result"
    }
   ],
   "source": [
    "#The Bottom 10\n",
    "#FILTERING BY PROD_QTY\n",
    "filterd_df = data[data['PROD_QTY'] == 1.0]\n",
    "#SORT BY TOT_SALES IN DESECNDING ORDER AND GET TOP 10 ROWS\n",
    "bottom_10_sales = filterd_df.sort_values(by = 'TOT_SALES',ascending=True).head(10)\n",
    "#rename columns\n",
    "bottom_10_sales = bottom_10_sales[['STORE_NBR','PROD_QTY','TOT_SALES']].rename(columns={'STORE_NBR':'Store number','PROD_QTY':'Product Quality','TOT_SALES':'Total Sales'}).reset_index(drop=True)\n",
    "bottom_10_sales.index +=1\n",
    "bottom_10_sales\n",
    "\n",
    "print('The Bottom 10 Stores')\n",
    "bottom_10_sales"
   ]
  },
  {
   "cell_type": "markdown",
   "metadata": {},
   "source": [
    "### 6 - Total Sales by Customer segment (LIFESTAGE and PREMIUM_CUSTOMER)"
   ]
  },
  {
   "cell_type": "code",
   "execution_count": 48,
   "metadata": {},
   "outputs": [
    {
     "data": {
      "image/png": "[encoded data removed]",
      "text/plain": [
       "<Figure size 1000x600 with 1 Axes>"
      ]
     },
     "metadata": {},
     "output_type": "display_data"
    },
    {
     "data": {
      "text/plain": [
       "<Figure size 640x480 with 0 Axes>"
      ]
     },
     "metadata": {},
     "output_type": "display_data"
    }
   ],
   "source": [
    "#Calculate the total sales by customers\n",
    "sales_by_segment = data.groupby(['LIFESTAGE','PREMIUM_CUSTOMER'])['TOT_SALES'].sum().reset_index()\n",
    "\n",
    "#create a bar plot\n",
    "plt.figure(figsize=(10,6))\n",
    "sns.barplot(data=sales_by_segment, x = 'TOT_SALES', y = 'LIFESTAGE', hue = 'PREMIUM_CUSTOMER')\n",
    "plt.title('Total Sales by Customer Segment')\n",
    "plt.xlabel('Total Sales')\n",
    "plt.ylabel('LIFESTAGE')\n",
    "#adding data label\n",
    "#for p in ax.patches:\n",
    "  #  width = p.get_width()\n",
    "   # plt.annotate(f'{width:.1f}', (width, p.get_y() + p.get_height() / 2), ha='left', va='center')\n",
    "\n",
    "plt.show()\n",
    "plt.clf()"
   ]
  },
  {
   "cell_type": "markdown",
   "metadata": {},
   "source": [
    "### 7 - Number of Customers in each Segment"
   ]
  },
  {
   "cell_type": "code",
   "execution_count": 49,
   "metadata": {},
   "outputs": [
    {
     "data": {
      "image/png": "[encoded data removed]",
      "text/plain": [
       "<Figure size 1000x600 with 1 Axes>"
      ]
     },
     "metadata": {},
     "output_type": "display_data"
    },
    {
     "data": {
      "text/plain": [
       "<Figure size 640x480 with 0 Axes>"
      ]
     },
     "metadata": {},
     "output_type": "display_data"
    }
   ],
   "source": [
    "#calculate the number of customer in each segment\n",
    "customer_count_segment = data.groupby(['LIFESTAGE','PREMIUM_CUSTOMER'])['LYLTY_CARD_NBR'].count().reset_index()\n",
    "\n",
    "#create a bar plot\n",
    "plt.figure(figsize=(10,6))\n",
    "sns.barplot(data=customer_count_segment, x = 'LYLTY_CARD_NBR', y = 'LIFESTAGE', hue = 'PREMIUM_CUSTOMER')\n",
    "plt.title('Number of customers by Customer Segment')\n",
    "plt.xlabel('Number of Customers')\n",
    "plt.ylabel('LIFESTAGE')\n",
    "plt.show()\n",
    "plt.clf()"
   ]
  },
  {
   "cell_type": "markdown",
   "metadata": {},
   "source": [
    "### 8 - Average Number of Chips Bought per Customer by Segment"
   ]
  },
  {
   "cell_type": "code",
   "execution_count": 50,
   "metadata": {},
   "outputs": [
    {
     "data": {
      "image/png": "[encoded data removed]",
      "text/plain": [
       "<Figure size 1000x600 with 1 Axes>"
      ]
     },
     "metadata": {},
     "output_type": "display_data"
    },
    {
     "data": {
      "text/plain": [
       "<Figure size 640x480 with 0 Axes>"
      ]
     },
     "metadata": {},
     "output_type": "display_data"
    }
   ],
   "source": [
    "#Calculate the average number of units(chips) bought per customer for each segment\n",
    "average_units_segment = data.groupby(['LIFESTAGE','PREMIUM_CUSTOMER'])['PROD_QTY'].mean().reset_index()\n",
    "\n",
    "#Create the bar plot\n",
    "plt.figure(figsize=(10,6))\n",
    "sns.barplot(data=average_units_segment, x = 'PROD_QTY', y = 'LIFESTAGE', hue = 'PREMIUM_CUSTOMER')\n",
    "plt.title('Average Number of units per customers by Customer Segment')\n",
    "plt.xlabel('Average Number of units')\n",
    "plt.ylabel('LIFESTAGE')\n",
    "\n",
    "plt.show()\n",
    "plt.clf()"
   ]
  },
  {
   "cell_type": "markdown",
   "metadata": {},
   "source": [
    "### 9 - Average chip price by Customer Segment"
   ]
  },
  {
   "cell_type": "code",
   "execution_count": 51,
   "metadata": {},
   "outputs": [],
   "source": [
    "data['PRICE_PER_UNIT'] = data['TOT_SALES'] / data['PROD_QTY']\n",
    "average_price = data.groupby(['LIFESTAGE', 'PREMIUM_CUSTOMER'])['PRICE_PER_UNIT'].mean().reset_index()"
   ]
  },
  {
   "cell_type": "code",
   "execution_count": 52,
   "metadata": {},
   "outputs": [
    {
     "data": {
      "image/png": "[encoded data removed]",
      "text/plain": [
       "<Figure size 1000x600 with 1 Axes>"
      ]
     },
     "metadata": {},
     "output_type": "display_data"
    }
   ],
   "source": [
    "#average price per unit customer\n",
    "plt.figure(figsize=(10, 6))\n",
    "sns.barplot(data=average_price, x='PRICE_PER_UNIT', y='LIFESTAGE', hue='PREMIUM_CUSTOMER')\n",
    "plt.title('Average Price per Unit by Customer Segment')\n",
    "plt.xlabel('Average Price per Unit')\n",
    "plt.ylabel('LIFESTAGE')\n",
    "\n",
    "\n",
    "plt.show()"
   ]
  },
  {
   "cell_type": "markdown",
   "metadata": {},
   "source": [
    "### 10 - Performing an Indipendent T-test Between Mainstream vs Premimum and budget mid-age and young singles and couples"
   ]
  },
  {
   "cell_type": "code",
   "execution_count": 53,
   "metadata": {},
   "outputs": [],
   "source": [
    "from scipy.stats import ttest_ind\n",
    "\n",
    "#create mask for differnt customer segments\n",
    "mainstream_mask = (data['PREMIUM_CUSTOMER'] == 'Mainstream')\n",
    "budget_premium = (data['PREMIUM_CUSTOMER'] != 'Mainstream')\n",
    "mid_age_young_mask = (data['LIFESTAGE'].isin(['MIDAGE SINGLES/COUPLES', 'YOUNG SINGLES/COUPLES']))\n"
   ]
  },
  {
   "cell_type": "code",
   "execution_count": 54,
   "metadata": {},
   "outputs": [],
   "source": [
    "#Calculate t-test for average price per unit\n",
    "t_stat, p_value = ttest_ind(data[mainstream_mask & mid_age_young_mask]['PRICE_PER_UNIT'],\n",
    "                            data[budget_premium & mid_age_young_mask]['PRICE_PER_UNIT'],\n",
    "                            equal_var = False)"
   ]
  },
  {
   "cell_type": "code",
   "execution_count": 55,
   "metadata": {},
   "outputs": [
    {
     "name": "stdout",
     "output_type": "stream",
     "text": [
      "this is the T statistics\n",
      "37.413441360485066\n",
      "this is the P_value:  2.005532452397739e-302\n"
     ]
    }
   ],
   "source": [
    "print ('this is the T statistics')\n",
    "print(t_stat)\n",
    "print(\"this is the P_value: \" , p_value)"
   ]
  },
  {
   "cell_type": "markdown",
   "metadata": {},
   "source": [
    "### 11 - Deep Dive into the mainstream, Young singles/couples for brand and pack size analysis"
   ]
  },
  {
   "cell_type": "code",
   "execution_count": 56,
   "metadata": {},
   "outputs": [],
   "source": [
    "mainstream_young = data[(data['PREMIUM_CUSTOMER'] == 'Mainstream') & (data['LIFESTAGE'] == 'YOUNG SINGLES/COUPLES')]"
   ]
  },
  {
   "cell_type": "code",
   "execution_count": 57,
   "metadata": {},
   "outputs": [],
   "source": [
    "# Analyze Preferred brands\n",
    "brand_preferences = mainstream_young['BRAND'].value_counts()"
   ]
  },
  {
   "cell_type": "code",
   "execution_count": 58,
   "metadata": {},
   "outputs": [
    {
     "data": {
      "image/png": "[encoded data removed]",
      "text/plain": [
       "<Figure size 1000x600 with 1 Axes>"
      ]
     },
     "metadata": {},
     "output_type": "display_data"
    }
   ],
   "source": [
    "#Ploting The prefeered brands\n",
    "plt.figure(figsize=(10, 6))\n",
    "brand_preferences.plot(kind='bar')\n",
    "plt.title('Preferred Brands for Mainstream Young Singles/Couples')\n",
    "plt.xlabel('Brand')\n",
    "plt.ylabel('Number of Purchases')\n",
    "plt.xticks(rotation=45)\n",
    "plt.show()"
   ]
  },
  {
   "cell_type": "markdown",
   "metadata": {},
   "source": [
    "### 12 - Analyze preferred Pack Sizes"
   ]
  },
  {
   "cell_type": "code",
   "execution_count": 59,
   "metadata": {},
   "outputs": [
    {
     "data": {
      "image/png": "[encoded data removed]",
      "text/plain": [
       "<Figure size 1000x600 with 1 Axes>"
      ]
     },
     "metadata": {},
     "output_type": "display_data"
    }
   ],
   "source": [
    "pack_size = mainstream_young['PACK_SIZE'].value_counts()\n",
    "\n",
    "#Plot Preferred Pack sizes\n",
    "plt.figure(figsize=(10, 6))\n",
    "pack_size.plot(kind='bar')\n",
    "plt.title('Preferred Pack Sizes for Mainstream Young Singles/Couples')\n",
    "plt.xlabel('Pack Size (g)')\n",
    "plt.ylabel('Number of Purchases')\n",
    "plt.xticks(rotation=0)\n",
    "plt.show()"
   ]
  },
  {
   "cell_type": "markdown",
   "metadata": {},
   "source": [
    "# Now lets export the data we have been using to use it on task Two"
   ]
  },
  {
   "cell_type": "code",
   "execution_count": 61,
   "metadata": {},
   "outputs": [],
   "source": [
    "data.to_csv(\"Task Tow/task_two_data.csv\", encoding= 'utf-8')"
   ]
  }
 ],
 "metadata": {
  "kernelspec": {
   "display_name": "Python 3",
   "language": "python",
   "name": "python3"
  },
  "language_info": {
   "codemirror_mode": {
    "name": "ipython",
    "version": 3
   },
   "file_extension": ".py",
   "mimetype": "text/x-python",
   "name": "python",
   "nbconvert_exporter": "python",
   "pygments_lexer": "ipython3",
   "version": "3.9.13"
  },
  "orig_nbformat": 4
 },
 "nbformat": 4,
 "nbformat_minor": 2
}
